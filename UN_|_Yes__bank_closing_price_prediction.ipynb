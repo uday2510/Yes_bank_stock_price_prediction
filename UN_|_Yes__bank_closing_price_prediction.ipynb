{
  "nbformat": 4,
  "nbformat_minor": 0,
  "metadata": {
    "colab": {
      "provenance": [],
      "collapsed_sections": [
        "yQaldy8SH6Dl",
        "ooDtv3T0VIGQ",
        "HhfV-JJviCcP",
        "RoGjAbkUYoAp",
        "iky9q4vBYrdO",
        "7wuGOrhz0itI",
        "TIqpNgepFxVj",
        "HAih1iBOpsJ2",
        "zVGeBEFhpsJ2"
      ],
      "include_colab_link": true
    },
    "kernelspec": {
      "name": "python3",
      "display_name": "Python 3"
    },
    "language_info": {
      "name": "python"
    }
  },
  "cells": [
    {
      "cell_type": "markdown",
      "metadata": {
        "id": "view-in-github",
        "colab_type": "text"
      },
      "source": [
        "<a href=\"https://colab.research.google.com/github/uday2510/Yes_bank_stock_price_prediction/blob/main/UN_%7C_Yes__bank_closing_price_prediction.ipynb\" target=\"_parent\"><img src=\"https://colab.research.google.com/assets/colab-badge.svg\" alt=\"Open In Colab\"/></a>"
      ]
    },
    {
      "cell_type": "markdown",
      "source": [
        "# **Project Name**    - **Yes bank closing price prediction**\n",
        "\n"
      ],
      "metadata": {
        "id": "vncDsAP0Gaoa"
      }
    },
    {
      "cell_type": "markdown",
      "source": [
        "**Project Type**    - Regression\n",
        "##### **Contribution**    - Individual\n",
        "##### **Team Member 1 -**  Uday Naidu\n"
      ],
      "metadata": {
        "id": "beRrZCGUAJYm"
      }
    },
    {
      "cell_type": "markdown",
      "source": [
        "# **Project Summary -**"
      ],
      "metadata": {
        "id": "FJNUwmbgGyua"
      }
    },
    {
      "cell_type": "markdown",
      "source": [
        "1. The yes bank closing price data set consisted of 5 features with one date\n",
        "   column and rest of the features was numerical.\n",
        "\n",
        "2. Since the dataset was very perfect as it had no missing and null values we\n",
        "   did not need to perform data cleaning part.So, I directly jumped into visualization part where i created different different types of chart to visualize my data and gain some insights with respect to independant variable.\n",
        "\n",
        "3. After that i performed the train test split method to split the data into\n",
        "   train and test part following the the features scaling technique before fitting the model.\n",
        "4. The feature scaling technique I used is Standard Scaler.after this i trained\n",
        "   the model and predicted the values.\n",
        "\n",
        "5. In this project i used two models one is the Linear Regression and other   \n",
        "   one is Ride Regression with the Cross Validation techniueq and hyperparamter tuning for both the models to check the performance of both the model with and without hyperparamter tuning.\n",
        "\n",
        "6. The MSE and R2 score are commonly used evaluation metrics for regression\n",
        "  models. In this case, the Linear Regression and Ridge Regression models have very similar performance, with the Ridge Regression model having a slightly lower MSE and a slightly higher R2 score. The mean squared error (MSE) measures the average squared difference between the predicted and actual values, where a lower MSE indicates better performance. The R-squared (R2) score measures the proportion of the variance in the dependent variable that is predictable from the independent variables, where a higher R2 score indicates better performance.\n",
        "\n"
      ],
      "metadata": {
        "id": "F6v_1wHtG2nS"
      }
    },
    {
      "cell_type": "markdown",
      "source": [
        "# **Github link**"
      ],
      "metadata": {
        "id": "w6K7xa23Elo4"
      }
    },
    {
      "cell_type": "markdown",
      "source": [
        "https://github.com/uday2510/Yes_bank_stock_price_prediction"
      ],
      "metadata": {
        "id": "h1o69JH3Eqqn"
      }
    },
    {
      "cell_type": "markdown",
      "source": [
        "# **Problem Statement**\n"
      ],
      "metadata": {
        "id": "yQaldy8SH6Dl"
      }
    },
    {
      "cell_type": "markdown",
      "source": [
        "\n",
        "Yes Bank is a well-known bank in the Indian financial domain. Since 2018, it has been in the news because of the fraud case involving Rana Kapoor. Owing to this fact, it was interesting to see how that impacted the stock prices of the company and whether Time series models or any other predictive models can do justice to such situations. This dataset has monthly stock prices of the bank since its inception and includes closing, starting, highest, and lowest stock prices of every month. The main objective is to predict the stock’s closing price of the month."
      ],
      "metadata": {
        "id": "DpeJGUA3kjGy"
      }
    },
    {
      "cell_type": "markdown",
      "source": [
        "# **General Guidelines** : -  \n"
      ],
      "metadata": {
        "id": "ooDtv3T0VIGQ"
      }
    },
    {
      "cell_type": "markdown",
      "source": [
        "1.   Well-structured, formatted, and commented code is required.\n",
        "2.   Exception Handling, Production Grade Code & Deployment Ready Code will be a plus. Those students will be awarded some additional credits.\n",
        "     \n",
        "     The additional credits will have advantages over other students during Star Student selection.\n",
        "       \n",
        "             [ Note: - Deployment Ready Code is defined as, the whole .ipynb notebook should be executable in one go\n",
        "                       without a single error logged. ]\n",
        "\n",
        "3.   Each and every logic should have proper comments.\n",
        "4. You may add as many number of charts you want. Make Sure for each and every chart the following format should be answered.\n",
        "        \n",
        "\n",
        "```\n",
        "# Chart visualization code\n",
        "```\n",
        "            \n",
        "\n",
        "*   Why did you pick the specific chart?\n",
        "*   What is/are the insight(s) found from the chart?\n",
        "* Will the gained insights help creating a positive business impact?\n",
        "Are there any insights that lead to negative growth? Justify with specific reason.\n",
        "\n",
        "5. You have to create at least 15 logical & meaningful charts having important insights.\n",
        "\n",
        "\n",
        "[ Hints : - Do the Vizualization in  a structured way while following \"UBM\" Rule.\n",
        "\n",
        "U - Univariate Analysis,\n",
        "\n",
        "B - Bivariate Analysis (Numerical - Categorical, Numerical - Numerical, Categorical - Categorical)\n",
        "\n",
        "M - Multivariate Analysis\n",
        " ]\n",
        "\n",
        "\n",
        "\n",
        "\n",
        "\n",
        "6. You may add more ml algorithms for model creation. Make sure for each and every algorithm, the following format should be answered.\n",
        "\n",
        "\n",
        "*   Explain the ML Model used and it's performance using Evaluation metric Score Chart.\n",
        "\n",
        "\n",
        "*   Cross- Validation & Hyperparameter Tuning\n",
        "\n",
        "*   Have you seen any improvement? Note down the improvement with updates Evaluation metric Score Chart.\n",
        "\n",
        "*   Explain each evaluation metric's indication towards business and the business impact pf the ML model used.\n",
        "\n",
        "\n",
        "\n",
        "\n",
        "\n",
        "\n",
        "\n",
        "\n",
        "\n",
        "\n",
        "\n",
        "\n",
        "\n",
        "\n",
        "\n",
        "\n",
        "\n",
        "\n"
      ],
      "metadata": {
        "id": "lLHY7k0gVhEg"
      }
    },
    {
      "cell_type": "markdown",
      "source": [
        "# ***Let's Begin !***"
      ],
      "metadata": {
        "id": "O_i_v8NEhb9l"
      }
    },
    {
      "cell_type": "markdown",
      "source": [
        "## ***1. Know Your Data***"
      ],
      "metadata": {
        "id": "HhfV-JJviCcP"
      }
    },
    {
      "cell_type": "markdown",
      "source": [
        "### Import Libraries"
      ],
      "metadata": {
        "id": "Y3lxredqlCYt"
      }
    },
    {
      "cell_type": "code",
      "source": [
        "# Import Libraries\n",
        "import pandas as pd                                                                 #Library for pandas\n",
        "import numpy as np                                                                  #Library for Numpy\n",
        "from datetime import datetime                                                       #Datetime library\n",
        "import matplotlib.pyplot as plt                                                     #Library for Visualization from matplotlib\n",
        "import seaborn as sns                                                               #Library for seaborn visualization\n",
        "from sklearn.preprocessing import StandardScaler                                    #Library for feature scaling\n",
        "from sklearn.model_selection import train_test_split                                #Library for splitting the dataset\n",
        "from sklearn.linear_model import LinearRegression                                   #Library for  ML Model\n",
        "from sklearn.metrics import mean_absolute_error ,r2_score, mean_squared_error       #Library for  checking accuracy and evaluation\n",
        "from sklearn.model_selection import GridSearchCV                                    #Library for hyperparamter tuning\n",
        "from sklearn.linear_model import Ridge"
      ],
      "metadata": {
        "id": "M8Vqi-pPk-HR"
      },
      "execution_count": null,
      "outputs": []
    },
    {
      "cell_type": "markdown",
      "source": [
        "### Dataset Loading"
      ],
      "metadata": {
        "id": "3RnN4peoiCZX"
      }
    },
    {
      "cell_type": "code",
      "source": [
        "# Load Dataset\n",
        "from google.colab import drive\n",
        "drive.mount('/content/drive')"
      ],
      "metadata": {
        "id": "4CkvbW_SlZ_R",
        "colab": {
          "base_uri": "https://localhost:8080/"
        },
        "outputId": "1ef09894-219a-40b5-b80f-5ee46e9b3081"
      },
      "execution_count": null,
      "outputs": [
        {
          "output_type": "stream",
          "name": "stdout",
          "text": [
            "Mounted at /content/drive\n"
          ]
        }
      ]
    },
    {
      "cell_type": "markdown",
      "source": [
        "### Dataset First View"
      ],
      "metadata": {
        "id": "x71ZqKXriCWQ"
      }
    },
    {
      "cell_type": "code",
      "source": [
        "# Dataset First Look\n",
        "path='/content/drive/MyDrive/Yes _bank_closing_price_prediction/data_YesBank_StockPrices.csv'\n",
        "df = pd.read_csv(path)"
      ],
      "metadata": {
        "id": "LWNFOSvLl09H"
      },
      "execution_count": null,
      "outputs": []
    },
    {
      "cell_type": "markdown",
      "source": [
        "### Dataset Rows & Columns count"
      ],
      "metadata": {
        "id": "7hBIi_osiCS2"
      }
    },
    {
      "cell_type": "code",
      "source": [
        "df.columns"
      ],
      "metadata": {
        "id": "qw-3tORuf1-P",
        "colab": {
          "base_uri": "https://localhost:8080/"
        },
        "outputId": "feac3e87-4252-4a4d-a358-1d65268c916c"
      },
      "execution_count": null,
      "outputs": [
        {
          "output_type": "execute_result",
          "data": {
            "text/plain": [
              "Index(['Date', 'Open', 'High', 'Low', 'Close'], dtype='object')"
            ]
          },
          "metadata": {},
          "execution_count": 4
        }
      ]
    },
    {
      "cell_type": "code",
      "source": [
        "df.head()"
      ],
      "metadata": {
        "id": "6EXzAC-fmQci",
        "colab": {
          "base_uri": "https://localhost:8080/",
          "height": 206
        },
        "outputId": "e7491dbe-54cc-4765-b81a-f4e50d4c1257"
      },
      "execution_count": null,
      "outputs": [
        {
          "output_type": "execute_result",
          "data": {
            "text/plain": [
              "     Date   Open   High    Low  Close\n",
              "0  Jul-05  13.00  14.00  11.25  12.46\n",
              "1  Aug-05  12.58  14.88  12.55  13.42\n",
              "2  Sep-05  13.48  14.87  12.27  13.30\n",
              "3  Oct-05  13.20  14.47  12.40  12.99\n",
              "4  Nov-05  13.35  13.88  12.88  13.41"
            ],
            "text/html": [
              "\n",
              "\n",
              "  <div id=\"df-bd44f7db-ec8f-448f-9220-9252531fc8a7\">\n",
              "    <div class=\"colab-df-container\">\n",
              "      <div>\n",
              "<style scoped>\n",
              "    .dataframe tbody tr th:only-of-type {\n",
              "        vertical-align: middle;\n",
              "    }\n",
              "\n",
              "    .dataframe tbody tr th {\n",
              "        vertical-align: top;\n",
              "    }\n",
              "\n",
              "    .dataframe thead th {\n",
              "        text-align: right;\n",
              "    }\n",
              "</style>\n",
              "<table border=\"1\" class=\"dataframe\">\n",
              "  <thead>\n",
              "    <tr style=\"text-align: right;\">\n",
              "      <th></th>\n",
              "      <th>Date</th>\n",
              "      <th>Open</th>\n",
              "      <th>High</th>\n",
              "      <th>Low</th>\n",
              "      <th>Close</th>\n",
              "    </tr>\n",
              "  </thead>\n",
              "  <tbody>\n",
              "    <tr>\n",
              "      <th>0</th>\n",
              "      <td>Jul-05</td>\n",
              "      <td>13.00</td>\n",
              "      <td>14.00</td>\n",
              "      <td>11.25</td>\n",
              "      <td>12.46</td>\n",
              "    </tr>\n",
              "    <tr>\n",
              "      <th>1</th>\n",
              "      <td>Aug-05</td>\n",
              "      <td>12.58</td>\n",
              "      <td>14.88</td>\n",
              "      <td>12.55</td>\n",
              "      <td>13.42</td>\n",
              "    </tr>\n",
              "    <tr>\n",
              "      <th>2</th>\n",
              "      <td>Sep-05</td>\n",
              "      <td>13.48</td>\n",
              "      <td>14.87</td>\n",
              "      <td>12.27</td>\n",
              "      <td>13.30</td>\n",
              "    </tr>\n",
              "    <tr>\n",
              "      <th>3</th>\n",
              "      <td>Oct-05</td>\n",
              "      <td>13.20</td>\n",
              "      <td>14.47</td>\n",
              "      <td>12.40</td>\n",
              "      <td>12.99</td>\n",
              "    </tr>\n",
              "    <tr>\n",
              "      <th>4</th>\n",
              "      <td>Nov-05</td>\n",
              "      <td>13.35</td>\n",
              "      <td>13.88</td>\n",
              "      <td>12.88</td>\n",
              "      <td>13.41</td>\n",
              "    </tr>\n",
              "  </tbody>\n",
              "</table>\n",
              "</div>\n",
              "      <button class=\"colab-df-convert\" onclick=\"convertToInteractive('df-bd44f7db-ec8f-448f-9220-9252531fc8a7')\"\n",
              "              title=\"Convert this dataframe to an interactive table.\"\n",
              "              style=\"display:none;\">\n",
              "\n",
              "  <svg xmlns=\"http://www.w3.org/2000/svg\" height=\"24px\"viewBox=\"0 0 24 24\"\n",
              "       width=\"24px\">\n",
              "    <path d=\"M0 0h24v24H0V0z\" fill=\"none\"/>\n",
              "    <path d=\"M18.56 5.44l.94 2.06.94-2.06 2.06-.94-2.06-.94-.94-2.06-.94 2.06-2.06.94zm-11 1L8.5 8.5l.94-2.06 2.06-.94-2.06-.94L8.5 2.5l-.94 2.06-2.06.94zm10 10l.94 2.06.94-2.06 2.06-.94-2.06-.94-.94-2.06-.94 2.06-2.06.94z\"/><path d=\"M17.41 7.96l-1.37-1.37c-.4-.4-.92-.59-1.43-.59-.52 0-1.04.2-1.43.59L10.3 9.45l-7.72 7.72c-.78.78-.78 2.05 0 2.83L4 21.41c.39.39.9.59 1.41.59.51 0 1.02-.2 1.41-.59l7.78-7.78 2.81-2.81c.8-.78.8-2.07 0-2.86zM5.41 20L4 18.59l7.72-7.72 1.47 1.35L5.41 20z\"/>\n",
              "  </svg>\n",
              "      </button>\n",
              "\n",
              "\n",
              "\n",
              "    <div id=\"df-64289389-ad77-4073-83bd-26ba5086b21d\">\n",
              "      <button class=\"colab-df-quickchart\" onclick=\"quickchart('df-64289389-ad77-4073-83bd-26ba5086b21d')\"\n",
              "              title=\"Suggest charts.\"\n",
              "              style=\"display:none;\">\n",
              "\n",
              "<svg xmlns=\"http://www.w3.org/2000/svg\" height=\"24px\"viewBox=\"0 0 24 24\"\n",
              "     width=\"24px\">\n",
              "    <g>\n",
              "        <path d=\"M19 3H5c-1.1 0-2 .9-2 2v14c0 1.1.9 2 2 2h14c1.1 0 2-.9 2-2V5c0-1.1-.9-2-2-2zM9 17H7v-7h2v7zm4 0h-2V7h2v10zm4 0h-2v-4h2v4z\"/>\n",
              "    </g>\n",
              "</svg>\n",
              "      </button>\n",
              "    </div>\n",
              "\n",
              "<style>\n",
              "  .colab-df-quickchart {\n",
              "    background-color: #E8F0FE;\n",
              "    border: none;\n",
              "    border-radius: 50%;\n",
              "    cursor: pointer;\n",
              "    display: none;\n",
              "    fill: #1967D2;\n",
              "    height: 32px;\n",
              "    padding: 0 0 0 0;\n",
              "    width: 32px;\n",
              "  }\n",
              "\n",
              "  .colab-df-quickchart:hover {\n",
              "    background-color: #E2EBFA;\n",
              "    box-shadow: 0px 1px 2px rgba(60, 64, 67, 0.3), 0px 1px 3px 1px rgba(60, 64, 67, 0.15);\n",
              "    fill: #174EA6;\n",
              "  }\n",
              "\n",
              "  [theme=dark] .colab-df-quickchart {\n",
              "    background-color: #3B4455;\n",
              "    fill: #D2E3FC;\n",
              "  }\n",
              "\n",
              "  [theme=dark] .colab-df-quickchart:hover {\n",
              "    background-color: #434B5C;\n",
              "    box-shadow: 0px 1px 3px 1px rgba(0, 0, 0, 0.15);\n",
              "    filter: drop-shadow(0px 1px 2px rgba(0, 0, 0, 0.3));\n",
              "    fill: #FFFFFF;\n",
              "  }\n",
              "</style>\n",
              "\n",
              "    <script>\n",
              "      async function quickchart(key) {\n",
              "        const containerElement = document.querySelector('#' + key);\n",
              "        const charts = await google.colab.kernel.invokeFunction(\n",
              "            'suggestCharts', [key], {});\n",
              "      }\n",
              "    </script>\n",
              "\n",
              "      <script>\n",
              "\n",
              "function displayQuickchartButton(domScope) {\n",
              "  let quickchartButtonEl =\n",
              "    domScope.querySelector('#df-64289389-ad77-4073-83bd-26ba5086b21d button.colab-df-quickchart');\n",
              "  quickchartButtonEl.style.display =\n",
              "    google.colab.kernel.accessAllowed ? 'block' : 'none';\n",
              "}\n",
              "\n",
              "        displayQuickchartButton(document);\n",
              "      </script>\n",
              "      <style>\n",
              "    .colab-df-container {\n",
              "      display:flex;\n",
              "      flex-wrap:wrap;\n",
              "      gap: 12px;\n",
              "    }\n",
              "\n",
              "    .colab-df-convert {\n",
              "      background-color: #E8F0FE;\n",
              "      border: none;\n",
              "      border-radius: 50%;\n",
              "      cursor: pointer;\n",
              "      display: none;\n",
              "      fill: #1967D2;\n",
              "      height: 32px;\n",
              "      padding: 0 0 0 0;\n",
              "      width: 32px;\n",
              "    }\n",
              "\n",
              "    .colab-df-convert:hover {\n",
              "      background-color: #E2EBFA;\n",
              "      box-shadow: 0px 1px 2px rgba(60, 64, 67, 0.3), 0px 1px 3px 1px rgba(60, 64, 67, 0.15);\n",
              "      fill: #174EA6;\n",
              "    }\n",
              "\n",
              "    [theme=dark] .colab-df-convert {\n",
              "      background-color: #3B4455;\n",
              "      fill: #D2E3FC;\n",
              "    }\n",
              "\n",
              "    [theme=dark] .colab-df-convert:hover {\n",
              "      background-color: #434B5C;\n",
              "      box-shadow: 0px 1px 3px 1px rgba(0, 0, 0, 0.15);\n",
              "      filter: drop-shadow(0px 1px 2px rgba(0, 0, 0, 0.3));\n",
              "      fill: #FFFFFF;\n",
              "    }\n",
              "  </style>\n",
              "\n",
              "      <script>\n",
              "        const buttonEl =\n",
              "          document.querySelector('#df-bd44f7db-ec8f-448f-9220-9252531fc8a7 button.colab-df-convert');\n",
              "        buttonEl.style.display =\n",
              "          google.colab.kernel.accessAllowed ? 'block' : 'none';\n",
              "\n",
              "        async function convertToInteractive(key) {\n",
              "          const element = document.querySelector('#df-bd44f7db-ec8f-448f-9220-9252531fc8a7');\n",
              "          const dataTable =\n",
              "            await google.colab.kernel.invokeFunction('convertToInteractive',\n",
              "                                                     [key], {});\n",
              "          if (!dataTable) return;\n",
              "\n",
              "          const docLinkHtml = 'Like what you see? Visit the ' +\n",
              "            '<a target=\"_blank\" href=https://colab.research.google.com/notebooks/data_table.ipynb>data table notebook</a>'\n",
              "            + ' to learn more about interactive tables.';\n",
              "          element.innerHTML = '';\n",
              "          dataTable['output_type'] = 'display_data';\n",
              "          await google.colab.output.renderOutput(dataTable, element);\n",
              "          const docLink = document.createElement('div');\n",
              "          docLink.innerHTML = docLinkHtml;\n",
              "          element.appendChild(docLink);\n",
              "        }\n",
              "      </script>\n",
              "    </div>\n",
              "  </div>\n"
            ]
          },
          "metadata": {},
          "execution_count": 5
        }
      ]
    },
    {
      "cell_type": "markdown",
      "source": [
        "### Dataset Information"
      ],
      "metadata": {
        "id": "JlHwYmJAmNHm"
      }
    },
    {
      "cell_type": "code",
      "source": [
        "# Dataset Info\n",
        "df.info()"
      ],
      "metadata": {
        "id": "e9hRXRi6meOf",
        "colab": {
          "base_uri": "https://localhost:8080/"
        },
        "outputId": "a585ba1c-42e0-4f33-9db5-d5ea522c686b"
      },
      "execution_count": null,
      "outputs": [
        {
          "output_type": "stream",
          "name": "stdout",
          "text": [
            "<class 'pandas.core.frame.DataFrame'>\n",
            "RangeIndex: 185 entries, 0 to 184\n",
            "Data columns (total 5 columns):\n",
            " #   Column  Non-Null Count  Dtype  \n",
            "---  ------  --------------  -----  \n",
            " 0   Date    185 non-null    object \n",
            " 1   Open    185 non-null    float64\n",
            " 2   High    185 non-null    float64\n",
            " 3   Low     185 non-null    float64\n",
            " 4   Close   185 non-null    float64\n",
            "dtypes: float64(4), object(1)\n",
            "memory usage: 7.4+ KB\n"
          ]
        }
      ]
    },
    {
      "cell_type": "markdown",
      "source": [
        "#### Duplicate Values"
      ],
      "metadata": {
        "id": "35m5QtbWiB9F"
      }
    },
    {
      "cell_type": "code",
      "source": [
        "# Dataset Duplicate Value Count\n",
        "df.duplicated().sum()"
      ],
      "metadata": {
        "id": "1sLdpKYkmox0",
        "colab": {
          "base_uri": "https://localhost:8080/"
        },
        "outputId": "3122534e-8fb9-4c12-b2e8-54045750e211"
      },
      "execution_count": null,
      "outputs": [
        {
          "output_type": "execute_result",
          "data": {
            "text/plain": [
              "0"
            ]
          },
          "metadata": {},
          "execution_count": 7
        }
      ]
    },
    {
      "cell_type": "markdown",
      "source": [
        "We can say that we do not hve any duplicated values in this data"
      ],
      "metadata": {
        "id": "oaCFxeB1eO1Q"
      }
    },
    {
      "cell_type": "markdown",
      "source": [
        "#### Missing Values/Null Values"
      ],
      "metadata": {
        "id": "PoPl-ycgm1ru"
      }
    },
    {
      "cell_type": "code",
      "source": [
        "# Missing Values/Null Values Count\n",
        "df.isnull().count()"
      ],
      "metadata": {
        "id": "GgHWkxvamxVg",
        "colab": {
          "base_uri": "https://localhost:8080/"
        },
        "outputId": "2698eaf4-231e-40b4-bbd1-9f783480592b"
      },
      "execution_count": null,
      "outputs": [
        {
          "output_type": "execute_result",
          "data": {
            "text/plain": [
              "Date     185\n",
              "Open     185\n",
              "High     185\n",
              "Low      185\n",
              "Close    185\n",
              "dtype: int64"
            ]
          },
          "metadata": {},
          "execution_count": 8
        }
      ]
    },
    {
      "cell_type": "markdown",
      "source": [
        "We can say that we do not hve any missing values in this data"
      ],
      "metadata": {
        "id": "h1g2flY-eM5O"
      }
    },
    {
      "cell_type": "markdown",
      "source": [
        "### What did you know about your dataset?"
      ],
      "metadata": {
        "id": "H0kj-8xxnORC"
      }
    },
    {
      "cell_type": "markdown",
      "source": [
        "**In this dataset we have 5 features which has no missing values and no duplicated values.**"
      ],
      "metadata": {
        "id": "gfoNAAC-nUe_"
      }
    },
    {
      "cell_type": "markdown",
      "source": [
        "## ***2. Understanding Your Variables***"
      ],
      "metadata": {
        "id": "nA9Y7ga8ng1Z"
      }
    },
    {
      "cell_type": "code",
      "source": [
        "# Dataset Columns\n",
        "df.columns"
      ],
      "metadata": {
        "id": "j7xfkqrt5Ag5",
        "colab": {
          "base_uri": "https://localhost:8080/"
        },
        "outputId": "91fd26d2-6156-439d-d546-44318815f732"
      },
      "execution_count": null,
      "outputs": [
        {
          "output_type": "execute_result",
          "data": {
            "text/plain": [
              "Index(['Date', 'Open', 'High', 'Low', 'Close'], dtype='object')"
            ]
          },
          "metadata": {},
          "execution_count": 9
        }
      ]
    },
    {
      "cell_type": "code",
      "source": [
        "# Dataset Describe\n",
        "df.describe()"
      ],
      "metadata": {
        "id": "DnOaZdaE5Q5t",
        "colab": {
          "base_uri": "https://localhost:8080/",
          "height": 300
        },
        "outputId": "c1d04deb-3655-4b10-84a9-a22c2de01c58"
      },
      "execution_count": null,
      "outputs": [
        {
          "output_type": "execute_result",
          "data": {
            "text/plain": [
              "             Open        High         Low       Close\n",
              "count  185.000000  185.000000  185.000000  185.000000\n",
              "mean   105.541405  116.104324   94.947838  105.204703\n",
              "std     98.879850  106.333497   91.219415   98.583153\n",
              "min     10.000000   11.240000    5.550000    9.980000\n",
              "25%     33.800000   36.140000   28.510000   33.450000\n",
              "50%     62.980000   72.550000   58.000000   62.540000\n",
              "75%    153.000000  169.190000  138.350000  153.300000\n",
              "max    369.950000  404.000000  345.500000  367.900000"
            ],
            "text/html": [
              "\n",
              "\n",
              "  <div id=\"df-a8ea21cb-f0f6-44a1-bfd7-a3840999cd52\">\n",
              "    <div class=\"colab-df-container\">\n",
              "      <div>\n",
              "<style scoped>\n",
              "    .dataframe tbody tr th:only-of-type {\n",
              "        vertical-align: middle;\n",
              "    }\n",
              "\n",
              "    .dataframe tbody tr th {\n",
              "        vertical-align: top;\n",
              "    }\n",
              "\n",
              "    .dataframe thead th {\n",
              "        text-align: right;\n",
              "    }\n",
              "</style>\n",
              "<table border=\"1\" class=\"dataframe\">\n",
              "  <thead>\n",
              "    <tr style=\"text-align: right;\">\n",
              "      <th></th>\n",
              "      <th>Open</th>\n",
              "      <th>High</th>\n",
              "      <th>Low</th>\n",
              "      <th>Close</th>\n",
              "    </tr>\n",
              "  </thead>\n",
              "  <tbody>\n",
              "    <tr>\n",
              "      <th>count</th>\n",
              "      <td>185.000000</td>\n",
              "      <td>185.000000</td>\n",
              "      <td>185.000000</td>\n",
              "      <td>185.000000</td>\n",
              "    </tr>\n",
              "    <tr>\n",
              "      <th>mean</th>\n",
              "      <td>105.541405</td>\n",
              "      <td>116.104324</td>\n",
              "      <td>94.947838</td>\n",
              "      <td>105.204703</td>\n",
              "    </tr>\n",
              "    <tr>\n",
              "      <th>std</th>\n",
              "      <td>98.879850</td>\n",
              "      <td>106.333497</td>\n",
              "      <td>91.219415</td>\n",
              "      <td>98.583153</td>\n",
              "    </tr>\n",
              "    <tr>\n",
              "      <th>min</th>\n",
              "      <td>10.000000</td>\n",
              "      <td>11.240000</td>\n",
              "      <td>5.550000</td>\n",
              "      <td>9.980000</td>\n",
              "    </tr>\n",
              "    <tr>\n",
              "      <th>25%</th>\n",
              "      <td>33.800000</td>\n",
              "      <td>36.140000</td>\n",
              "      <td>28.510000</td>\n",
              "      <td>33.450000</td>\n",
              "    </tr>\n",
              "    <tr>\n",
              "      <th>50%</th>\n",
              "      <td>62.980000</td>\n",
              "      <td>72.550000</td>\n",
              "      <td>58.000000</td>\n",
              "      <td>62.540000</td>\n",
              "    </tr>\n",
              "    <tr>\n",
              "      <th>75%</th>\n",
              "      <td>153.000000</td>\n",
              "      <td>169.190000</td>\n",
              "      <td>138.350000</td>\n",
              "      <td>153.300000</td>\n",
              "    </tr>\n",
              "    <tr>\n",
              "      <th>max</th>\n",
              "      <td>369.950000</td>\n",
              "      <td>404.000000</td>\n",
              "      <td>345.500000</td>\n",
              "      <td>367.900000</td>\n",
              "    </tr>\n",
              "  </tbody>\n",
              "</table>\n",
              "</div>\n",
              "      <button class=\"colab-df-convert\" onclick=\"convertToInteractive('df-a8ea21cb-f0f6-44a1-bfd7-a3840999cd52')\"\n",
              "              title=\"Convert this dataframe to an interactive table.\"\n",
              "              style=\"display:none;\">\n",
              "\n",
              "  <svg xmlns=\"http://www.w3.org/2000/svg\" height=\"24px\"viewBox=\"0 0 24 24\"\n",
              "       width=\"24px\">\n",
              "    <path d=\"M0 0h24v24H0V0z\" fill=\"none\"/>\n",
              "    <path d=\"M18.56 5.44l.94 2.06.94-2.06 2.06-.94-2.06-.94-.94-2.06-.94 2.06-2.06.94zm-11 1L8.5 8.5l.94-2.06 2.06-.94-2.06-.94L8.5 2.5l-.94 2.06-2.06.94zm10 10l.94 2.06.94-2.06 2.06-.94-2.06-.94-.94-2.06-.94 2.06-2.06.94z\"/><path d=\"M17.41 7.96l-1.37-1.37c-.4-.4-.92-.59-1.43-.59-.52 0-1.04.2-1.43.59L10.3 9.45l-7.72 7.72c-.78.78-.78 2.05 0 2.83L4 21.41c.39.39.9.59 1.41.59.51 0 1.02-.2 1.41-.59l7.78-7.78 2.81-2.81c.8-.78.8-2.07 0-2.86zM5.41 20L4 18.59l7.72-7.72 1.47 1.35L5.41 20z\"/>\n",
              "  </svg>\n",
              "      </button>\n",
              "\n",
              "\n",
              "\n",
              "    <div id=\"df-907166dc-4881-4038-8294-4138db98b457\">\n",
              "      <button class=\"colab-df-quickchart\" onclick=\"quickchart('df-907166dc-4881-4038-8294-4138db98b457')\"\n",
              "              title=\"Suggest charts.\"\n",
              "              style=\"display:none;\">\n",
              "\n",
              "<svg xmlns=\"http://www.w3.org/2000/svg\" height=\"24px\"viewBox=\"0 0 24 24\"\n",
              "     width=\"24px\">\n",
              "    <g>\n",
              "        <path d=\"M19 3H5c-1.1 0-2 .9-2 2v14c0 1.1.9 2 2 2h14c1.1 0 2-.9 2-2V5c0-1.1-.9-2-2-2zM9 17H7v-7h2v7zm4 0h-2V7h2v10zm4 0h-2v-4h2v4z\"/>\n",
              "    </g>\n",
              "</svg>\n",
              "      </button>\n",
              "    </div>\n",
              "\n",
              "<style>\n",
              "  .colab-df-quickchart {\n",
              "    background-color: #E8F0FE;\n",
              "    border: none;\n",
              "    border-radius: 50%;\n",
              "    cursor: pointer;\n",
              "    display: none;\n",
              "    fill: #1967D2;\n",
              "    height: 32px;\n",
              "    padding: 0 0 0 0;\n",
              "    width: 32px;\n",
              "  }\n",
              "\n",
              "  .colab-df-quickchart:hover {\n",
              "    background-color: #E2EBFA;\n",
              "    box-shadow: 0px 1px 2px rgba(60, 64, 67, 0.3), 0px 1px 3px 1px rgba(60, 64, 67, 0.15);\n",
              "    fill: #174EA6;\n",
              "  }\n",
              "\n",
              "  [theme=dark] .colab-df-quickchart {\n",
              "    background-color: #3B4455;\n",
              "    fill: #D2E3FC;\n",
              "  }\n",
              "\n",
              "  [theme=dark] .colab-df-quickchart:hover {\n",
              "    background-color: #434B5C;\n",
              "    box-shadow: 0px 1px 3px 1px rgba(0, 0, 0, 0.15);\n",
              "    filter: drop-shadow(0px 1px 2px rgba(0, 0, 0, 0.3));\n",
              "    fill: #FFFFFF;\n",
              "  }\n",
              "</style>\n",
              "\n",
              "    <script>\n",
              "      async function quickchart(key) {\n",
              "        const containerElement = document.querySelector('#' + key);\n",
              "        const charts = await google.colab.kernel.invokeFunction(\n",
              "            'suggestCharts', [key], {});\n",
              "      }\n",
              "    </script>\n",
              "\n",
              "      <script>\n",
              "\n",
              "function displayQuickchartButton(domScope) {\n",
              "  let quickchartButtonEl =\n",
              "    domScope.querySelector('#df-907166dc-4881-4038-8294-4138db98b457 button.colab-df-quickchart');\n",
              "  quickchartButtonEl.style.display =\n",
              "    google.colab.kernel.accessAllowed ? 'block' : 'none';\n",
              "}\n",
              "\n",
              "        displayQuickchartButton(document);\n",
              "      </script>\n",
              "      <style>\n",
              "    .colab-df-container {\n",
              "      display:flex;\n",
              "      flex-wrap:wrap;\n",
              "      gap: 12px;\n",
              "    }\n",
              "\n",
              "    .colab-df-convert {\n",
              "      background-color: #E8F0FE;\n",
              "      border: none;\n",
              "      border-radius: 50%;\n",
              "      cursor: pointer;\n",
              "      display: none;\n",
              "      fill: #1967D2;\n",
              "      height: 32px;\n",
              "      padding: 0 0 0 0;\n",
              "      width: 32px;\n",
              "    }\n",
              "\n",
              "    .colab-df-convert:hover {\n",
              "      background-color: #E2EBFA;\n",
              "      box-shadow: 0px 1px 2px rgba(60, 64, 67, 0.3), 0px 1px 3px 1px rgba(60, 64, 67, 0.15);\n",
              "      fill: #174EA6;\n",
              "    }\n",
              "\n",
              "    [theme=dark] .colab-df-convert {\n",
              "      background-color: #3B4455;\n",
              "      fill: #D2E3FC;\n",
              "    }\n",
              "\n",
              "    [theme=dark] .colab-df-convert:hover {\n",
              "      background-color: #434B5C;\n",
              "      box-shadow: 0px 1px 3px 1px rgba(0, 0, 0, 0.15);\n",
              "      filter: drop-shadow(0px 1px 2px rgba(0, 0, 0, 0.3));\n",
              "      fill: #FFFFFF;\n",
              "    }\n",
              "  </style>\n",
              "\n",
              "      <script>\n",
              "        const buttonEl =\n",
              "          document.querySelector('#df-a8ea21cb-f0f6-44a1-bfd7-a3840999cd52 button.colab-df-convert');\n",
              "        buttonEl.style.display =\n",
              "          google.colab.kernel.accessAllowed ? 'block' : 'none';\n",
              "\n",
              "        async function convertToInteractive(key) {\n",
              "          const element = document.querySelector('#df-a8ea21cb-f0f6-44a1-bfd7-a3840999cd52');\n",
              "          const dataTable =\n",
              "            await google.colab.kernel.invokeFunction('convertToInteractive',\n",
              "                                                     [key], {});\n",
              "          if (!dataTable) return;\n",
              "\n",
              "          const docLinkHtml = 'Like what you see? Visit the ' +\n",
              "            '<a target=\"_blank\" href=https://colab.research.google.com/notebooks/data_table.ipynb>data table notebook</a>'\n",
              "            + ' to learn more about interactive tables.';\n",
              "          element.innerHTML = '';\n",
              "          dataTable['output_type'] = 'display_data';\n",
              "          await google.colab.output.renderOutput(dataTable, element);\n",
              "          const docLink = document.createElement('div');\n",
              "          docLink.innerHTML = docLinkHtml;\n",
              "          element.appendChild(docLink);\n",
              "        }\n",
              "      </script>\n",
              "    </div>\n",
              "  </div>\n"
            ]
          },
          "metadata": {},
          "execution_count": 10
        }
      ]
    },
    {
      "cell_type": "markdown",
      "source": [
        "### Variables Description"
      ],
      "metadata": {
        "id": "PBTbrJXOngz2"
      }
    },
    {
      "cell_type": "markdown",
      "source": [
        "**From these 5 features, 4 of them are numerical features and one is object.**"
      ],
      "metadata": {
        "id": "aJV4KIxSnxay"
      }
    },
    {
      "cell_type": "markdown",
      "source": [
        "### Check Unique Values for each variable."
      ],
      "metadata": {
        "id": "u3PMJOP6ngxN"
      }
    },
    {
      "cell_type": "code",
      "source": [
        "# Check Unique Values for each variable.\n",
        "for i in df.columns:\n",
        "  print(i)\n",
        "  print(df[i].unique())"
      ],
      "metadata": {
        "id": "zms12Yq5n-jE"
      },
      "execution_count": null,
      "outputs": []
    },
    {
      "cell_type": "markdown",
      "source": [
        "## 3. ***Data Wrangling***"
      ],
      "metadata": {
        "id": "dauF4eBmngu3"
      }
    },
    {
      "cell_type": "markdown",
      "source": [
        "### Data Wrangling Code"
      ],
      "metadata": {
        "id": "bKJF3rekwFvQ"
      }
    },
    {
      "cell_type": "code",
      "source": [
        "# Write your code to make your dataset analysis ready.\n",
        "df.head()"
      ],
      "metadata": {
        "id": "wk-9a2fpoLcV"
      },
      "execution_count": null,
      "outputs": []
    },
    {
      "cell_type": "markdown",
      "source": [
        "## ***4. Data Vizualization, Storytelling & Experimenting with charts : Understand the relationships between variables***"
      ],
      "metadata": {
        "id": "GF8Ens_Soomf"
      }
    },
    {
      "cell_type": "markdown",
      "source": [
        "#### Chart - 1"
      ],
      "metadata": {
        "id": "0wOQAZs5pc--"
      }
    },
    {
      "cell_type": "code",
      "source": [
        "# Chart - 1 visualization code\n",
        "for i in df.columns[1:4]:\n",
        "    plt.figure(figsize=(15,5))\n",
        "    sns.regplot(data=df,x=i,y='Close')\n",
        "    plt.xlabel(i)\n",
        "    plt.ylabel('Close')\n",
        "    plt.title(f'{i} vs Close reg plot')\n",
        "    plt.show()"
      ],
      "metadata": {
        "id": "7v_ESjsspbW7",
        "colab": {
          "base_uri": "https://localhost:8080/",
          "height": 1000
        },
        "outputId": "427a9793-0e4b-4747-bd71-37fa56b2bb4e"
      },
      "execution_count": null,
      "outputs": [
        {
          "output_type": "display_data",
          "data": {
            "text/plain": [
              "<Figure size 1500x500 with 1 Axes>"
            ],
            "image/png": "[encoded data removed]"
          },
          "metadata": {}
        },
        {
          "output_type": "display_data",
          "data": {
            "text/plain": [
              "<Figure size 1500x500 with 1 Axes>"
            ],
            "image/png": "[encoded data removed]"
          },
          "metadata": {}
        },
        {
          "output_type": "display_data",
          "data": {
            "text/plain": [
              "<Figure size 1500x500 with 1 Axes>"
            ],
            "image/png": "[encoded data removed]"
          },
          "metadata": {}
        }
      ]
    },
    {
      "cell_type": "markdown",
      "source": [
        "##### 1. Why did you pick the specific chart?"
      ],
      "metadata": {
        "id": "K5QZ13OEpz2H"
      }
    },
    {
      "cell_type": "markdown",
      "source": [
        "**we have used the regression chart to check the linear relationship between dependant and independent features**"
      ],
      "metadata": {
        "id": "XESiWehPqBRc"
      }
    },
    {
      "cell_type": "markdown",
      "source": [
        "##### 2. What is/are the insight(s) found from the chart?"
      ],
      "metadata": {
        "id": "lQ7QKXXCp7Bj"
      }
    },
    {
      "cell_type": "markdown",
      "source": [
        "**By the regression plot we can conclude that the open,high,low features are highly corelated with close feature**"
      ],
      "metadata": {
        "id": "C_j1G7yiqdRP"
      }
    },
    {
      "cell_type": "markdown",
      "source": [
        "##### 2. What is/are the insight(s) found from the chart?"
      ],
      "metadata": {
        "id": "ijmpgYnKYklI"
      }
    },
    {
      "cell_type": "markdown",
      "source": [
        "**The insights we found form this chart is that we can say that the all the features are highly correlated.**"
      ],
      "metadata": {
        "id": "PSx9atu2YklI"
      }
    },
    {
      "cell_type": "markdown",
      "source": [
        "#### Chart - 2"
      ],
      "metadata": {
        "id": "EM7whBJCYoAo"
      }
    },
    {
      "cell_type": "code",
      "source": [
        "# Chart - 3 visualization code\n",
        "sns.boxplot(df)\n",
        "plt.xlabel('Category')\n",
        "plt.ylabel('Value')\n",
        "plt.title('Boxplot')"
      ],
      "metadata": {
        "id": "t6GMdE67YoAp",
        "colab": {
          "base_uri": "https://localhost:8080/",
          "height": 489
        },
        "outputId": "42327132-9c28-4edb-f06b-a2652282a0a6"
      },
      "execution_count": null,
      "outputs": [
        {
          "output_type": "execute_result",
          "data": {
            "text/plain": [
              "Text(0.5, 1.0, 'Boxplot')"
            ]
          },
          "metadata": {},
          "execution_count": 14
        },
        {
          "output_type": "display_data",
          "data": {
            "text/plain": [
              "<Figure size 640x480 with 1 Axes>"
            ],
            "image/png": "[encoded data removed]"
          },
          "metadata": {}
        }
      ]
    },
    {
      "cell_type": "markdown",
      "source": [
        "##### 1. Why did you pick the specific chart?"
      ],
      "metadata": {
        "id": "fge-S5ZAYoAp"
      }
    },
    {
      "cell_type": "markdown",
      "source": [
        "We have  used this boxplot chart to detect the outliers in each features"
      ],
      "metadata": {
        "id": "5dBItgRVYoAp"
      }
    },
    {
      "cell_type": "markdown",
      "source": [
        "##### 2. What is/are the insight(s) found from the chart?"
      ],
      "metadata": {
        "id": "85gYPyotYoAp"
      }
    },
    {
      "cell_type": "markdown",
      "source": [
        "**i observed that there are few outliers in the features**"
      ],
      "metadata": {
        "id": "4jstXR6OYoAp"
      }
    },
    {
      "cell_type": "markdown",
      "source": [
        "##### 3. Will the gained insights help creating a positive business impact?\n",
        "Are there any insights that lead to negative growth? Justify with specific reason."
      ],
      "metadata": {
        "id": "RoGjAbkUYoAp"
      }
    },
    {
      "cell_type": "markdown",
      "source": [
        "Answer Here"
      ],
      "metadata": {
        "id": "zfJ8IqMcYoAp"
      }
    },
    {
      "cell_type": "markdown",
      "source": [
        "#### Chart - 3"
      ],
      "metadata": {
        "id": "4Of9eVA-YrdM"
      }
    },
    {
      "cell_type": "code",
      "source": [
        "# Chart - 4 visualization code\n",
        "for i in df.columns[1:4]:\n",
        "    sns.displot(df[i], kde=True)\n",
        "    plt.show()"
      ],
      "metadata": {
        "id": "irlUoxc8YrdO"
      },
      "execution_count": null,
      "outputs": []
    },
    {
      "cell_type": "markdown",
      "source": [
        "##### 1. Why did you pick the specific chart?"
      ],
      "metadata": {
        "id": "iky9q4vBYrdO"
      }
    },
    {
      "cell_type": "markdown",
      "source": [
        "**We choose distplot to check the distribution of the independant features**"
      ],
      "metadata": {
        "id": "aJRCwT6DYrdO"
      }
    },
    {
      "cell_type": "markdown",
      "source": [
        "##### 2. What is/are the insight(s) found from the chart?"
      ],
      "metadata": {
        "id": "F6T5p64dYrdO"
      }
    },
    {
      "cell_type": "markdown",
      "source": [
        "The insights we found from this visualisation is that the distribution of all the three featues are rightly skewed"
      ],
      "metadata": {
        "id": "Xx8WAJvtYrdO"
      }
    },
    {
      "cell_type": "markdown",
      "source": [
        "#### Chart - 4"
      ],
      "metadata": {
        "id": "bamQiAODYuh1"
      }
    },
    {
      "cell_type": "code",
      "source": [
        "# Chart - 5 visualization code\n",
        "sns.set_style('dark')\n",
        "sns.lineplot(x=df['Date'][:10],y=df['Close'][:10])\n",
        "plt.title('Monthly closing price')\n",
        "plt.grid( which='major', axis='both',linestyle='--', linewidth=0.5)"
      ],
      "metadata": {
        "id": "TIJwrbroYuh3",
        "colab": {
          "base_uri": "https://localhost:8080/",
          "height": 472
        },
        "outputId": "bcccd1b1-26eb-4dea-c850-cccd2bcf616b"
      },
      "execution_count": null,
      "outputs": [
        {
          "output_type": "display_data",
          "data": {
            "text/plain": [
              "<Figure size 640x480 with 1 Axes>"
            ],
            "image/png": "[encoded data removed]"
          },
          "metadata": {}
        }
      ]
    },
    {
      "cell_type": "markdown",
      "source": [
        "##### 1. Why did you pick the specific chart?"
      ],
      "metadata": {
        "id": "QHF8YVU7Yuh3"
      }
    },
    {
      "cell_type": "markdown",
      "source": [
        "**we used line chart to visualize the closing price trends of every month**"
      ],
      "metadata": {
        "id": "dcxuIMRPYuh3"
      }
    },
    {
      "cell_type": "markdown",
      "source": [
        "##### 2. What is/are the insight(s) found from the chart?"
      ],
      "metadata": {
        "id": "GwzvFGzlYuh3"
      }
    },
    {
      "cell_type": "markdown",
      "source": [
        "From the line chart of  closing price we found out that the closing price of the stock from the month july 2005 to jan 2006 was very low and from feb 2006 to april 2066 the closing price of the stock was very high."
      ],
      "metadata": {
        "id": "uyqkiB8YYuh3"
      }
    },
    {
      "cell_type": "markdown",
      "source": [
        "#### Chart - 5 - Correlation Heatmap"
      ],
      "metadata": {
        "id": "NC_X3p0fY2L0"
      }
    },
    {
      "cell_type": "code",
      "source": [
        "# Correlation Heatmap visualization code\n",
        "\n",
        "sns.heatmap(df.corr(), cmap=\"YlGnBu\",annot=df.corr(),fmt='.2f',square=True)\n",
        "plt.title(\"Heatmap\")\n",
        "plt.xlabel(\"X-axis\")\n",
        "plt.ylabel(\"Y-axis\")\n",
        "plt.show()"
      ],
      "metadata": {
        "id": "xyC9zolEZNRQ",
        "colab": {
          "base_uri": "https://localhost:8080/",
          "height": 527
        },
        "outputId": "6371e1fa-9a08-4e8e-e2f3-7982bee86f13"
      },
      "execution_count": null,
      "outputs": [
        {
          "output_type": "stream",
          "name": "stderr",
          "text": [
            "<ipython-input-17-b6b4509edd5c>:3: FutureWarning: The default value of numeric_only in DataFrame.corr is deprecated. In a future version, it will default to False. Select only valid columns or specify the value of numeric_only to silence this warning.\n",
            "  sns.heatmap(df.corr(), cmap=\"YlGnBu\",annot=df.corr(),fmt='.2f',square=True)\n"
          ]
        },
        {
          "output_type": "display_data",
          "data": {
            "text/plain": [
              "<Figure size 640x480 with 2 Axes>"
            ],
            "image/png": "[encoded data removed]"
          },
          "metadata": {}
        }
      ]
    },
    {
      "cell_type": "markdown",
      "source": [
        "##### 1. Why did you pick the specific chart?"
      ],
      "metadata": {
        "id": "UV0SzAkaZNRQ"
      }
    },
    {
      "cell_type": "markdown",
      "source": [
        "**Here we used heatmap to check the corelation bewteen the each and every features.**"
      ],
      "metadata": {
        "id": "DVPuT8LYZNRQ"
      }
    },
    {
      "cell_type": "markdown",
      "source": [
        "##### 2. What is/are the insight(s) found from the chart?"
      ],
      "metadata": {
        "id": "YPEH6qLeZNRQ"
      }
    },
    {
      "cell_type": "markdown",
      "source": [
        "**the insights we found form this chart is that we can say that the all the features are highly correlated.**"
      ],
      "metadata": {
        "id": "bfSqtnDqZNRR"
      }
    },
    {
      "cell_type": "markdown",
      "source": [
        "## ***6. Feature Engineering & Data Pre-processing***"
      ],
      "metadata": {
        "id": "yLjJCtPM0KBk"
      }
    },
    {
      "cell_type": "markdown",
      "source": [
        "### 1. Handling Missing Values"
      ],
      "metadata": {
        "id": "xiyOF9F70UgQ"
      }
    },
    {
      "cell_type": "code",
      "source": [
        "# Handling Missing Values & Missing Value Imputation"
      ],
      "metadata": {
        "id": "iRsAHk1K0fpS"
      },
      "execution_count": null,
      "outputs": []
    },
    {
      "cell_type": "markdown",
      "source": [
        "**Since there are no missing values found in the given dataset , there is no need for using the impuatation technique.**"
      ],
      "metadata": {
        "id": "e5ZFpKo5BZ0-"
      }
    },
    {
      "cell_type": "markdown",
      "source": [
        "#### What all missing value imputation techniques have you used and why did you use those techniques?"
      ],
      "metadata": {
        "id": "7wuGOrhz0itI"
      }
    },
    {
      "cell_type": "markdown",
      "source": [
        "Answer Here."
      ],
      "metadata": {
        "id": "1ixusLtI0pqI"
      }
    },
    {
      "cell_type": "markdown",
      "source": [
        "### 2. Handling Outliers"
      ],
      "metadata": {
        "id": "id1riN9m0vUs"
      }
    },
    {
      "cell_type": "code",
      "source": [
        "# Handling Outliers & Outlier treatments"
      ],
      "metadata": {
        "id": "M6w2CzZf04JK"
      },
      "execution_count": null,
      "outputs": []
    },
    {
      "cell_type": "markdown",
      "source": [
        "##### What all outlier treatment techniques have you used and why did you use those techniques?"
      ],
      "metadata": {
        "id": "578E2V7j08f6"
      }
    },
    {
      "cell_type": "markdown",
      "source": [
        "**As there were no large number of outliers in the dataset so we didnot remove the outliers.**"
      ],
      "metadata": {
        "id": "uGZz5OrT1HH-"
      }
    },
    {
      "cell_type": "markdown",
      "source": [
        "### 3. Categorical Encoding"
      ],
      "metadata": {
        "id": "89xtkJwZ18nB"
      }
    },
    {
      "cell_type": "code",
      "source": [
        "# Encode your categorical columns"
      ],
      "metadata": {
        "id": "21JmIYMG2hEo"
      },
      "execution_count": null,
      "outputs": []
    },
    {
      "cell_type": "markdown",
      "source": [
        "**As we have have all the features in numerical category , we dont need to perform categorical encoding.**"
      ],
      "metadata": {
        "id": "rEkF7x5cCE4A"
      }
    },
    {
      "cell_type": "markdown",
      "source": [
        "### 8. Data Preprocessing"
      ],
      "metadata": {
        "id": "BhH2vgX9EjGr"
      }
    },
    {
      "cell_type": "markdown",
      "source": [
        "### 1.assigning dependant and independant variable"
      ],
      "metadata": {
        "id": "bqjqEyZsQE2l"
      }
    },
    {
      "cell_type": "code",
      "source": [
        "X=df.iloc[:, 1:4]\n",
        "Y=df['Close']"
      ],
      "metadata": {
        "id": "XKPzcpImQLPT"
      },
      "execution_count": null,
      "outputs": []
    },
    {
      "cell_type": "markdown",
      "source": [
        "### 2.Data Splitting"
      ],
      "metadata": {
        "id": "0TM6WHF-ScL1"
      }
    },
    {
      "cell_type": "code",
      "source": [
        "# Split data to train and test.\n",
        "\n",
        "X_train, X_test, y_train, y_test = train_test_split(X,Y, random_state=10, test_size=0.25)"
      ],
      "metadata": {
        "id": "0CTyd2UwEyNM"
      },
      "execution_count": null,
      "outputs": []
    },
    {
      "cell_type": "markdown",
      "source": [
        "##### What data splitting ratio have you used and why?"
      ],
      "metadata": {
        "id": "qjKvONjwE8ra"
      }
    },
    {
      "cell_type": "markdown",
      "source": [
        "**We have used 75:25 split ratio with respect to train and test data. **"
      ],
      "metadata": {
        "id": "Y2lJ8cobFDb_"
      }
    },
    {
      "cell_type": "markdown",
      "source": [
        "### 3.Feature Scaling"
      ],
      "metadata": {
        "id": "CLHi4oJNS-ue"
      }
    },
    {
      "cell_type": "code",
      "source": [
        "SS=StandardScaler()\n",
        "X_train=pd.DataFrame(SS.fit_transform(X_train),columns=X_train.columns)"
      ],
      "metadata": {
        "id": "uCO7sBB_TINB"
      },
      "execution_count": null,
      "outputs": []
    },
    {
      "cell_type": "code",
      "source": [
        "X_test=pd.DataFrame(SS.transform(X_test),columns=X_test.columns)"
      ],
      "metadata": {
        "id": "n2xAAHJYboLR"
      },
      "execution_count": null,
      "outputs": []
    },
    {
      "cell_type": "markdown",
      "source": [
        "### 9. Handling Imbalanced Dataset"
      ],
      "metadata": {
        "id": "P1XJ9OREExlT"
      }
    },
    {
      "cell_type": "markdown",
      "source": [
        "##### Do you think the dataset is imbalanced? Explain Why."
      ],
      "metadata": {
        "id": "VFOzZv6IFROw"
      }
    },
    {
      "cell_type": "markdown",
      "source": [
        "**checking for imbalance is not typically applied directly to numerical features**"
      ],
      "metadata": {
        "id": "GeKDIv7pFgcC"
      }
    },
    {
      "cell_type": "code",
      "source": [
        "# Handling Imbalanced Dataset (If needed)"
      ],
      "metadata": {
        "id": "nQsRhhZLFiDs"
      },
      "execution_count": null,
      "outputs": []
    },
    {
      "cell_type": "markdown",
      "source": [
        "##### What technique did you use to handle the imbalance dataset and why? (If needed to be balanced)"
      ],
      "metadata": {
        "id": "TIqpNgepFxVj"
      }
    },
    {
      "cell_type": "markdown",
      "source": [
        "**Since checking for imbalance is not typically applied directly to numerical features.Therefore there is no need to handle the imbalance dataset.**"
      ],
      "metadata": {
        "id": "qbet1HwdGDTz"
      }
    },
    {
      "cell_type": "markdown",
      "source": [
        "## ***9. ML Model Implementation***"
      ],
      "metadata": {
        "id": "VfCC591jGiD4"
      }
    },
    {
      "cell_type": "markdown",
      "source": [
        "### ML Model - 1\n",
        "Linear Regression"
      ],
      "metadata": {
        "id": "OB4l2ZhMeS1U"
      }
    },
    {
      "cell_type": "code",
      "source": [
        "# ML Model - 1 Implementation\n",
        "LR= LinearRegression()\n",
        "\n",
        "# Fit the Algorithm\n",
        "LR.fit(X_train,y_train)\n",
        "\n",
        "# Predict on the model\n",
        "Y_prediction_test=LR.predict(X_test)\n",
        "print(Y_prediction_test)\n",
        "\n",
        "Y_prediction_train=LR.predict(X_train)\n",
        "print(Y_prediction_train)\n",
        "\n",
        "#coefficients\n",
        "m= LR.coef_\n",
        "print(m)\n",
        "#Intercepts\n",
        "\n",
        "Bo=LR.intercept_\n",
        "print(Bo)"
      ],
      "metadata": {
        "id": "7ebyywQieS1U",
        "colab": {
          "base_uri": "https://localhost:8080/"
        },
        "outputId": "e56cecf4-830b-4cef-8692-9d5bf32274eb"
      },
      "execution_count": null,
      "outputs": [
        {
          "output_type": "stream",
          "name": "stdout",
          "text": [
            "[ 67.59941298 169.63275508 142.86472393  80.16941923  14.85034821\n",
            "  74.77801325  19.45469366 100.05654207  15.38099891  49.24876035\n",
            " 166.98044076  37.41949502  24.12250932 262.34725678  74.37449265\n",
            "  30.91647027 104.94704319  58.39539688  27.39345988 163.35535313\n",
            "  52.68648526  14.12349755 339.58290235  16.10344922 175.91565552\n",
            "  60.34242839  26.11720536  67.65551245 141.6182689   65.82091343\n",
            "  68.61202909  61.30150826  93.98507104 217.32318335 351.91990033\n",
            "  28.64181662  37.55168274  18.58123427  40.61762401  57.47806308\n",
            "  15.8649497   50.59888131  56.61054713  40.66037789  57.82163002\n",
            "  67.44539097 198.51594087]\n",
            "[ 31.57564506  52.79501282 316.78986854  53.54584583  83.71791726\n",
            "  33.58236444 114.14601925  64.11597911 127.87898793  74.75609848\n",
            "  59.33753992  12.42046118  54.82502198  27.2831957  166.46376619\n",
            " 313.96113146  51.00562976 342.60077913  91.13836051 118.78114358\n",
            "  26.14894509  16.92979537 322.37182773 288.64721452  51.84042031\n",
            " 167.40529971 322.73200952 126.903403    15.70522891  27.84715155\n",
            " 298.57774284  29.53477535  34.09552991  54.44469597  69.48568715\n",
            "  29.34730315  62.64456126  45.91233499  19.74910068  62.94921468\n",
            "  73.99326301  59.84703591  52.27535337  15.43093672  34.65869459\n",
            " 260.7776824   45.32577802  29.39381739  40.79707187 345.28360856\n",
            "  66.29127167  16.21238881 196.63312908  48.31488425 249.87137335\n",
            "  15.58804336  72.07919845 373.70869581 216.49260998 181.66526742\n",
            "  29.9930172   16.91180184  16.06333479  34.85601839 106.72332245\n",
            "  70.20962137  17.79699778 166.13962097  30.54858458 338.35083342\n",
            " 232.3561981   76.13883814  34.36356824 222.89900221 108.55375625\n",
            "  38.91595401 153.32416598 242.46041446 265.50489643  15.50977811\n",
            "  15.85958691  11.11673504  67.0401932  177.74391531  46.75898031\n",
            " 181.31820534  60.03211858 168.03578008 300.07438979  15.70026044\n",
            " 231.63840158  56.89209424 108.61017549 106.33713645 182.08113925\n",
            "  96.27455466  33.32930163  39.77288544  27.13734153  56.84235609\n",
            "  49.46703483  62.6430175  304.26786608  95.37923897  36.89522579\n",
            "  74.32808043  91.2927155  321.39665542 135.08715818 347.22616556\n",
            "  19.5548597   52.52854163 147.68486035  87.60119048  32.49118593\n",
            "  70.89159745 143.2587264  108.24715417  90.08288262  52.04809165\n",
            " 292.11579757  70.44970848  27.04924545 163.4842769  261.88685032\n",
            "  15.31352437  14.15052119  54.90778569  20.98454387  15.49446472\n",
            " 368.20006123 371.77630326 152.33298902 146.6599654   65.00155585\n",
            "  23.89128182 140.74391756  20.71656875]\n",
            "[-50.83846314  59.9336686   92.97189545]\n",
            "111.64043478260866\n"
          ]
        }
      ]
    },
    {
      "cell_type": "markdown",
      "source": [
        "#### 1. Explain the ML Model used and it's performance using Evaluation metric Score Chart."
      ],
      "metadata": {
        "id": "ArJBuiUVfxKd"
      }
    },
    {
      "cell_type": "code",
      "source": [
        "# Visualizing evaluation Metric Score chart\n",
        "mae_test=mean_absolute_error(y_test ,Y_prediction_test)\n",
        "mae_test"
      ],
      "metadata": {
        "id": "rqD5ZohzfxKe",
        "colab": {
          "base_uri": "https://localhost:8080/"
        },
        "outputId": "d4e15c86-c5e7-480f-ae79-5d52f60b89e4"
      },
      "execution_count": null,
      "outputs": [
        {
          "output_type": "execute_result",
          "data": {
            "text/plain": [
              "3.4072505564263644"
            ]
          },
          "metadata": {},
          "execution_count": 27
        }
      ]
    },
    {
      "cell_type": "code",
      "source": [
        "mae_train=mean_absolute_error(y_train ,Y_prediction_train)\n",
        "mae_train"
      ],
      "metadata": {
        "colab": {
          "base_uri": "https://localhost:8080/"
        },
        "id": "wPpKP0TA0Iv9",
        "outputId": "f0ca6c97-db2e-4fdf-db3e-a40933add983"
      },
      "execution_count": null,
      "outputs": [
        {
          "output_type": "execute_result",
          "data": {
            "text/plain": [
              "4.552655128971373"
            ]
          },
          "metadata": {},
          "execution_count": 28
        }
      ]
    },
    {
      "cell_type": "code",
      "source": [
        "mse_train=mean_squared_error(y_train,Y_prediction_train)\n",
        "mse_train"
      ],
      "metadata": {
        "colab": {
          "base_uri": "https://localhost:8080/"
        },
        "id": "Ntcwbilu2UTX",
        "outputId": "50b9e3be-54a6-459a-fa81-6c05b82a571a"
      },
      "execution_count": null,
      "outputs": [
        {
          "output_type": "execute_result",
          "data": {
            "text/plain": [
              "56.364634178028176"
            ]
          },
          "metadata": {},
          "execution_count": 29
        }
      ]
    },
    {
      "cell_type": "code",
      "source": [
        "mse_test=mean_squared_error(y_test ,Y_prediction_test)\n",
        "mse_test"
      ],
      "metadata": {
        "colab": {
          "base_uri": "https://localhost:8080/"
        },
        "id": "GiKJ4MFM20Ew",
        "outputId": "b046aa6b-125e-449b-e4e3-9d7e2cd6dc86"
      },
      "execution_count": null,
      "outputs": [
        {
          "output_type": "execute_result",
          "data": {
            "text/plain": [
              "23.268235150472655"
            ]
          },
          "metadata": {},
          "execution_count": 30
        }
      ]
    },
    {
      "cell_type": "code",
      "source": [
        "rmse_train = np.sqrt(mse_train)\n",
        "rmse_train"
      ],
      "metadata": {
        "colab": {
          "base_uri": "https://localhost:8080/"
        },
        "id": "XpJQwVG33BoK",
        "outputId": "c06956b4-5bd8-4717-988f-69fa5c7b7506"
      },
      "execution_count": null,
      "outputs": [
        {
          "output_type": "execute_result",
          "data": {
            "text/plain": [
              "7.507638388869577"
            ]
          },
          "metadata": {},
          "execution_count": 31
        }
      ]
    },
    {
      "cell_type": "code",
      "source": [
        "rmse_test= np.sqrt(mse_test)\n",
        "rmse_test"
      ],
      "metadata": {
        "colab": {
          "base_uri": "https://localhost:8080/"
        },
        "id": "MS6YFKHW3SPd",
        "outputId": "bc4a8ea1-cfc8-4739-c130-52e6b9e10102"
      },
      "execution_count": null,
      "outputs": [
        {
          "output_type": "execute_result",
          "data": {
            "text/plain": [
              "4.8237159068992295"
            ]
          },
          "metadata": {},
          "execution_count": 32
        }
      ]
    },
    {
      "cell_type": "markdown",
      "source": [
        "**Checking model accuracy**"
      ],
      "metadata": {
        "id": "Io6KnGnh1SxL"
      }
    },
    {
      "cell_type": "code",
      "source": [
        "Score_test=r2_score(y_test,Y_prediction_test)\n",
        "Score_test\n"
      ],
      "metadata": {
        "colab": {
          "base_uri": "https://localhost:8080/"
        },
        "id": "IpkCpZoDlcgQ",
        "outputId": "53479fe7-8de5-40b8-ddd8-c74063769aea"
      },
      "execution_count": null,
      "outputs": [
        {
          "output_type": "execute_result",
          "data": {
            "text/plain": [
              "0.9965380887242618"
            ]
          },
          "metadata": {},
          "execution_count": 33
        }
      ]
    },
    {
      "cell_type": "code",
      "source": [
        "Score_train=r2_score(y_train,Y_prediction_train)\n",
        "Score_train"
      ],
      "metadata": {
        "id": "IZtm7uof0IUh",
        "colab": {
          "base_uri": "https://localhost:8080/"
        },
        "outputId": "bdc05644-c8d3-4e8d-cdeb-ab1701e58847"
      },
      "execution_count": null,
      "outputs": [
        {
          "output_type": "execute_result",
          "data": {
            "text/plain": [
              "0.9946350283624178"
            ]
          },
          "metadata": {},
          "execution_count": 34
        }
      ]
    },
    {
      "cell_type": "code",
      "source": [
        "print(\"Score_train: \", Score_train)\n",
        "print(\"Score_test: \", Score_test)\n",
        "\n",
        "print(\"mae_train: \", mae_train)\n",
        "print(\"mae_test: \", mae_test)\n",
        "\n",
        "print(\"MSE_Test: \", mse_test)\n",
        "print(\"MSE_Train: \", rmse_train)\n",
        "\n",
        "print(\"RMSE_Test: \", rmse_test)\n",
        "print(\"RMSE_Train: \", rmse_train)"
      ],
      "metadata": {
        "id": "FFU5aWQ_6Jo_",
        "colab": {
          "base_uri": "https://localhost:8080/"
        },
        "outputId": "5ae37bb9-9ad5-43a6-c7c7-322ab10a50a8"
      },
      "execution_count": null,
      "outputs": [
        {
          "output_type": "stream",
          "name": "stdout",
          "text": [
            "Score_train:  0.9946350283624178\n",
            "Score_test:  0.9965380887242618\n",
            "mae_train:  4.552655128971373\n",
            "mae_test:  3.4072505564263644\n",
            "MSE_Test:  23.268235150472655\n",
            "MSE_Train:  7.507638388869577\n",
            "RMSE_Test:  4.8237159068992295\n",
            "RMSE_Train:  7.507638388869577\n"
          ]
        }
      ]
    },
    {
      "cell_type": "markdown",
      "source": [
        "**Plotting the  Predicted test values against the real values using Seaborn**"
      ],
      "metadata": {
        "id": "DpZKJAB14Plg"
      }
    },
    {
      "cell_type": "code",
      "source": [
        "sns.set_style('white')\n",
        "sns.lmplot(x='test_values',y='prediction_test_values',data= pd.DataFrame({'test_values':y_test,'prediction_test_values':Y_prediction_test}))\n",
        "plt.title('Predicted test values against the real values')\n"
      ],
      "metadata": {
        "id": "IFtuQ3dS4WkO",
        "colab": {
          "base_uri": "https://localhost:8080/",
          "height": 546
        },
        "outputId": "1d8db377-1a13-4f04-ca00-e2e82c97ffe2"
      },
      "execution_count": null,
      "outputs": [
        {
          "output_type": "execute_result",
          "data": {
            "text/plain": [
              "Text(0.5, 1.0, 'Predicted test values against the real values')"
            ]
          },
          "metadata": {},
          "execution_count": 36
        },
        {
          "output_type": "display_data",
          "data": {
            "text/plain": [
              "<Figure size 500x500 with 1 Axes>"
            ],
            "image/png": "[encoded data removed]"
          },
          "metadata": {}
        }
      ]
    },
    {
      "cell_type": "markdown",
      "source": [
        "#### 2. Cross- Validation & Hyperparameter Tuning of Model 1"
      ],
      "metadata": {
        "id": "4qY1EAkEfxKe"
      }
    },
    {
      "cell_type": "code",
      "source": [
        "# ML Model - 1 Implementation with hyperparameter optimization techniques (i.e., GridSearch CV, RandomSearch CV, Bayesian Optimization etc.)\n",
        "gcv= GridSearchCV(LR,param_grid={'fit_intercept':[True , False]},scoring='r2', cv=5)\n",
        "# Fit the Algorithm\n",
        "gcv.fit(X_train,y_train)\n",
        "\n",
        "print(gcv.best_params_)\n",
        "print(gcv.best_score_)"
      ],
      "metadata": {
        "id": "Dy61ujd6fxKe",
        "colab": {
          "base_uri": "https://localhost:8080/"
        },
        "outputId": "d4b86336-5b21-4643-b751-0f03ed964ff0"
      },
      "execution_count": null,
      "outputs": [
        {
          "output_type": "stream",
          "name": "stdout",
          "text": [
            "{'fit_intercept': True}\n",
            "0.9919544295105268\n"
          ]
        }
      ]
    },
    {
      "cell_type": "code",
      "source": [
        "\n",
        "Tuned_LR=LinearRegression(fit_intercept =True)\n",
        "Tuned_LR.fit(X_train , y_train)"
      ],
      "metadata": {
        "id": "0iGwnemh9oDj",
        "colab": {
          "base_uri": "https://localhost:8080/",
          "height": 74
        },
        "outputId": "73488207-aba4-44c0-acd6-bef3e43ffe94"
      },
      "execution_count": null,
      "outputs": [
        {
          "output_type": "execute_result",
          "data": {
            "text/plain": [
              "LinearRegression()"
            ],
            "text/html": [
              "<style>#sk-container-id-1 {color: black;background-color: white;}#sk-container-id-1 pre{padding: 0;}#sk-container-id-1 div.sk-toggleable {background-color: white;}#sk-container-id-1 label.sk-toggleable__label {cursor: pointer;display: block;width: 100%;margin-bottom: 0;padding: 0.3em;box-sizing: border-box;text-align: center;}#sk-container-id-1 label.sk-toggleable__label-arrow:before {content: \"▸\";float: left;margin-right: 0.25em;color: #696969;}#sk-container-id-1 label.sk-toggleable__label-arrow:hover:before {color: black;}#sk-container-id-1 div.sk-estimator:hover label.sk-toggleable__label-arrow:before {color: black;}#sk-container-id-1 div.sk-toggleable__content {max-height: 0;max-width: 0;overflow: hidden;text-align: left;background-color: #f0f8ff;}#sk-container-id-1 div.sk-toggleable__content pre {margin: 0.2em;color: black;border-radius: 0.25em;background-color: #f0f8ff;}#sk-container-id-1 input.sk-toggleable__control:checked~div.sk-toggleable__content {max-height: 200px;max-width: 100%;overflow: auto;}#sk-container-id-1 input.sk-toggleable__control:checked~label.sk-toggleable__label-arrow:before {content: \"▾\";}#sk-container-id-1 div.sk-estimator input.sk-toggleable__control:checked~label.sk-toggleable__label {background-color: #d4ebff;}#sk-container-id-1 div.sk-label input.sk-toggleable__control:checked~label.sk-toggleable__label {background-color: #d4ebff;}#sk-container-id-1 input.sk-hidden--visually {border: 0;clip: rect(1px 1px 1px 1px);clip: rect(1px, 1px, 1px, 1px);height: 1px;margin: -1px;overflow: hidden;padding: 0;position: absolute;width: 1px;}#sk-container-id-1 div.sk-estimator {font-family: monospace;background-color: #f0f8ff;border: 1px dotted black;border-radius: 0.25em;box-sizing: border-box;margin-bottom: 0.5em;}#sk-container-id-1 div.sk-estimator:hover {background-color: #d4ebff;}#sk-container-id-1 div.sk-parallel-item::after {content: \"\";width: 100%;border-bottom: 1px solid gray;flex-grow: 1;}#sk-container-id-1 div.sk-label:hover label.sk-toggleable__label {background-color: #d4ebff;}#sk-container-id-1 div.sk-serial::before {content: \"\";position: absolute;border-left: 1px solid gray;box-sizing: border-box;top: 0;bottom: 0;left: 50%;z-index: 0;}#sk-container-id-1 div.sk-serial {display: flex;flex-direction: column;align-items: center;background-color: white;padding-right: 0.2em;padding-left: 0.2em;position: relative;}#sk-container-id-1 div.sk-item {position: relative;z-index: 1;}#sk-container-id-1 div.sk-parallel {display: flex;align-items: stretch;justify-content: center;background-color: white;position: relative;}#sk-container-id-1 div.sk-item::before, #sk-container-id-1 div.sk-parallel-item::before {content: \"\";position: absolute;border-left: 1px solid gray;box-sizing: border-box;top: 0;bottom: 0;left: 50%;z-index: -1;}#sk-container-id-1 div.sk-parallel-item {display: flex;flex-direction: column;z-index: 1;position: relative;background-color: white;}#sk-container-id-1 div.sk-parallel-item:first-child::after {align-self: flex-end;width: 50%;}#sk-container-id-1 div.sk-parallel-item:last-child::after {align-self: flex-start;width: 50%;}#sk-container-id-1 div.sk-parallel-item:only-child::after {width: 0;}#sk-container-id-1 div.sk-dashed-wrapped {border: 1px dashed gray;margin: 0 0.4em 0.5em 0.4em;box-sizing: border-box;padding-bottom: 0.4em;background-color: white;}#sk-container-id-1 div.sk-label label {font-family: monospace;font-weight: bold;display: inline-block;line-height: 1.2em;}#sk-container-id-1 div.sk-label-container {text-align: center;}#sk-container-id-1 div.sk-container {/* jupyter's `normalize.less` sets `[hidden] { display: none; }` but bootstrap.min.css set `[hidden] { display: none !important; }` so we also need the `!important` here to be able to override the default hidden behavior on the sphinx rendered scikit-learn.org. See: https://github.com/scikit-learn/scikit-learn/issues/21755 */display: inline-block !important;position: relative;}#sk-container-id-1 div.sk-text-repr-fallback {display: none;}</style><div id=\"sk-container-id-1\" class=\"sk-top-container\"><div class=\"sk-text-repr-fallback\"><pre>LinearRegression()</pre><b>In a Jupyter environment, please rerun this cell to show the HTML representation or trust the notebook. <br />On GitHub, the HTML representation is unable to render, please try loading this page with nbviewer.org.</b></div><div class=\"sk-container\" hidden><div class=\"sk-item\"><div class=\"sk-estimator sk-toggleable\"><input class=\"sk-toggleable__control sk-hidden--visually\" id=\"sk-estimator-id-1\" type=\"checkbox\" checked><label for=\"sk-estimator-id-1\" class=\"sk-toggleable__label sk-toggleable__label-arrow\">LinearRegression</label><div class=\"sk-toggleable__content\"><pre>LinearRegression()</pre></div></div></div></div></div>"
            ]
          },
          "metadata": {},
          "execution_count": 38
        }
      ]
    },
    {
      "cell_type": "code",
      "source": [
        "tuned_predic_test=Tuned_LR.predict (X_test)\n",
        "tuned_predic_test"
      ],
      "metadata": {
        "id": "-GeCWMp8BqUv",
        "colab": {
          "base_uri": "https://localhost:8080/"
        },
        "outputId": "ae26bb5f-82c5-4c9e-c40e-ac532fd1dc97"
      },
      "execution_count": null,
      "outputs": [
        {
          "output_type": "execute_result",
          "data": {
            "text/plain": [
              "array([ 67.59941298, 169.63275508, 142.86472393,  80.16941923,\n",
              "        14.85034821,  74.77801325,  19.45469366, 100.05654207,\n",
              "        15.38099891,  49.24876035, 166.98044076,  37.41949502,\n",
              "        24.12250932, 262.34725678,  74.37449265,  30.91647027,\n",
              "       104.94704319,  58.39539688,  27.39345988, 163.35535313,\n",
              "        52.68648526,  14.12349755, 339.58290235,  16.10344922,\n",
              "       175.91565552,  60.34242839,  26.11720536,  67.65551245,\n",
              "       141.6182689 ,  65.82091343,  68.61202909,  61.30150826,\n",
              "        93.98507104, 217.32318335, 351.91990033,  28.64181662,\n",
              "        37.55168274,  18.58123427,  40.61762401,  57.47806308,\n",
              "        15.8649497 ,  50.59888131,  56.61054713,  40.66037789,\n",
              "        57.82163002,  67.44539097, 198.51594087])"
            ]
          },
          "metadata": {},
          "execution_count": 39
        }
      ]
    },
    {
      "cell_type": "code",
      "source": [
        "tuned_predic_train =Tuned_LR.predict (X_train)\n",
        "tuned_predic_train"
      ],
      "metadata": {
        "id": "24JHq0kRBmR6",
        "colab": {
          "base_uri": "https://localhost:8080/"
        },
        "outputId": "46c56934-c057-4982-e87b-4e164d68b624"
      },
      "execution_count": null,
      "outputs": [
        {
          "output_type": "execute_result",
          "data": {
            "text/plain": [
              "array([ 31.57564506,  52.79501282, 316.78986854,  53.54584583,\n",
              "        83.71791726,  33.58236444, 114.14601925,  64.11597911,\n",
              "       127.87898793,  74.75609848,  59.33753992,  12.42046118,\n",
              "        54.82502198,  27.2831957 , 166.46376619, 313.96113146,\n",
              "        51.00562976, 342.60077913,  91.13836051, 118.78114358,\n",
              "        26.14894509,  16.92979537, 322.37182773, 288.64721452,\n",
              "        51.84042031, 167.40529971, 322.73200952, 126.903403  ,\n",
              "        15.70522891,  27.84715155, 298.57774284,  29.53477535,\n",
              "        34.09552991,  54.44469597,  69.48568715,  29.34730315,\n",
              "        62.64456126,  45.91233499,  19.74910068,  62.94921468,\n",
              "        73.99326301,  59.84703591,  52.27535337,  15.43093672,\n",
              "        34.65869459, 260.7776824 ,  45.32577802,  29.39381739,\n",
              "        40.79707187, 345.28360856,  66.29127167,  16.21238881,\n",
              "       196.63312908,  48.31488425, 249.87137335,  15.58804336,\n",
              "        72.07919845, 373.70869581, 216.49260998, 181.66526742,\n",
              "        29.9930172 ,  16.91180184,  16.06333479,  34.85601839,\n",
              "       106.72332245,  70.20962137,  17.79699778, 166.13962097,\n",
              "        30.54858458, 338.35083342, 232.3561981 ,  76.13883814,\n",
              "        34.36356824, 222.89900221, 108.55375625,  38.91595401,\n",
              "       153.32416598, 242.46041446, 265.50489643,  15.50977811,\n",
              "        15.85958691,  11.11673504,  67.0401932 , 177.74391531,\n",
              "        46.75898031, 181.31820534,  60.03211858, 168.03578008,\n",
              "       300.07438979,  15.70026044, 231.63840158,  56.89209424,\n",
              "       108.61017549, 106.33713645, 182.08113925,  96.27455466,\n",
              "        33.32930163,  39.77288544,  27.13734153,  56.84235609,\n",
              "        49.46703483,  62.6430175 , 304.26786608,  95.37923897,\n",
              "        36.89522579,  74.32808043,  91.2927155 , 321.39665542,\n",
              "       135.08715818, 347.22616556,  19.5548597 ,  52.52854163,\n",
              "       147.68486035,  87.60119048,  32.49118593,  70.89159745,\n",
              "       143.2587264 , 108.24715417,  90.08288262,  52.04809165,\n",
              "       292.11579757,  70.44970848,  27.04924545, 163.4842769 ,\n",
              "       261.88685032,  15.31352437,  14.15052119,  54.90778569,\n",
              "        20.98454387,  15.49446472, 368.20006123, 371.77630326,\n",
              "       152.33298902, 146.6599654 ,  65.00155585,  23.89128182,\n",
              "       140.74391756,  20.71656875])"
            ]
          },
          "metadata": {},
          "execution_count": 40
        }
      ]
    },
    {
      "cell_type": "code",
      "source": [
        "#coefficients\n",
        "Tuned_LR.coef_"
      ],
      "metadata": {
        "id": "9uUL5QmxeqGg",
        "colab": {
          "base_uri": "https://localhost:8080/"
        },
        "outputId": "42d1c4cc-8b1f-4718-acd8-b62d71539005"
      },
      "execution_count": null,
      "outputs": [
        {
          "output_type": "execute_result",
          "data": {
            "text/plain": [
              "array([-50.83846314,  59.9336686 ,  92.97189545])"
            ]
          },
          "metadata": {},
          "execution_count": 41
        }
      ]
    },
    {
      "cell_type": "code",
      "source": [
        "#Intercept\n",
        "Tuned_LR.intercept_"
      ],
      "metadata": {
        "id": "NUOwQwyhep_S",
        "colab": {
          "base_uri": "https://localhost:8080/"
        },
        "outputId": "68d9f3a0-ba66-4105-90f8-ad6331ac78b9"
      },
      "execution_count": null,
      "outputs": [
        {
          "output_type": "execute_result",
          "data": {
            "text/plain": [
              "111.64043478260866"
            ]
          },
          "metadata": {},
          "execution_count": 42
        }
      ]
    },
    {
      "cell_type": "markdown",
      "source": [
        "**Visualizing evaluation Metric Score chart**"
      ],
      "metadata": {
        "id": "fBBj18MU-tFF"
      }
    },
    {
      "cell_type": "code",
      "source": [
        "tuned_mae_test=mean_absolute_error(y_test ,tuned_predic_test)\n",
        "tuned_mae_test"
      ],
      "metadata": {
        "colab": {
          "base_uri": "https://localhost:8080/"
        },
        "id": "8vAzjm5CBsty",
        "outputId": "e172c83d-0169-4c32-d415-16a719f196e7"
      },
      "execution_count": null,
      "outputs": [
        {
          "output_type": "execute_result",
          "data": {
            "text/plain": [
              "3.4072505564263644"
            ]
          },
          "metadata": {},
          "execution_count": 43
        }
      ]
    },
    {
      "cell_type": "code",
      "source": [
        "tuned_mae_train=mean_absolute_error(y_train ,tuned_predic_train)\n",
        "tuned_mae_train"
      ],
      "metadata": {
        "colab": {
          "base_uri": "https://localhost:8080/"
        },
        "id": "eyAKagcDB5OY",
        "outputId": "d2f66b77-1dcd-4963-ca7d-38322b51fd6e"
      },
      "execution_count": null,
      "outputs": [
        {
          "output_type": "execute_result",
          "data": {
            "text/plain": [
              "4.552655128971373"
            ]
          },
          "metadata": {},
          "execution_count": 44
        }
      ]
    },
    {
      "cell_type": "code",
      "source": [
        "tuned_mse_test=mean_squared_error(y_test ,Y_prediction_test)\n",
        "tuned_mse_test"
      ],
      "metadata": {
        "colab": {
          "base_uri": "https://localhost:8080/"
        },
        "id": "vwHPLuuKKTZf",
        "outputId": "284c3536-e11e-4b7c-9c58-780af445be32"
      },
      "execution_count": null,
      "outputs": [
        {
          "output_type": "execute_result",
          "data": {
            "text/plain": [
              "23.268235150472655"
            ]
          },
          "metadata": {},
          "execution_count": 45
        }
      ]
    },
    {
      "cell_type": "code",
      "source": [
        "tuned_mse_train=mean_squared_error(y_train ,Y_prediction_train)\n",
        "tuned_mse_train"
      ],
      "metadata": {
        "colab": {
          "base_uri": "https://localhost:8080/"
        },
        "id": "MbaZnYeoKe0J",
        "outputId": "6dc489f2-0493-403d-f2ef-c93f40b5c760"
      },
      "execution_count": null,
      "outputs": [
        {
          "output_type": "execute_result",
          "data": {
            "text/plain": [
              "56.364634178028176"
            ]
          },
          "metadata": {},
          "execution_count": 46
        }
      ]
    },
    {
      "cell_type": "code",
      "source": [
        "tuned_rmse_test=np.sqrt(tuned_mse_test)\n",
        "tuned_rmse_test"
      ],
      "metadata": {
        "colab": {
          "base_uri": "https://localhost:8080/"
        },
        "id": "QkclUuTL_Ma7",
        "outputId": "e1241014-740d-45fe-c171-e832cae549b8"
      },
      "execution_count": null,
      "outputs": [
        {
          "output_type": "execute_result",
          "data": {
            "text/plain": [
              "4.8237159068992295"
            ]
          },
          "metadata": {},
          "execution_count": 47
        }
      ]
    },
    {
      "cell_type": "code",
      "source": [
        "tuned_rmse_train=np.sqrt(tuned_mse_train)\n",
        "tuned_rmse_train"
      ],
      "metadata": {
        "colab": {
          "base_uri": "https://localhost:8080/"
        },
        "id": "Sit2ta4Q_MgS",
        "outputId": "3e525cbd-b509-4df2-e6b3-95f9c648ba46"
      },
      "execution_count": null,
      "outputs": [
        {
          "output_type": "execute_result",
          "data": {
            "text/plain": [
              "7.507638388869577"
            ]
          },
          "metadata": {},
          "execution_count": 48
        }
      ]
    },
    {
      "cell_type": "markdown",
      "source": [
        "**Checking model accuracy**"
      ],
      "metadata": {
        "id": "xYVwyaEo_gSf"
      }
    },
    {
      "cell_type": "code",
      "source": [
        "tuned_test_score=r2_score(y_test,tuned_predic_test)\n",
        "tuned_test_score"
      ],
      "metadata": {
        "colab": {
          "base_uri": "https://localhost:8080/"
        },
        "id": "hvR20Xkg_WpU",
        "outputId": "9f9f98d8-6f40-47ec-dddb-c7ac55699521"
      },
      "execution_count": null,
      "outputs": [
        {
          "output_type": "execute_result",
          "data": {
            "text/plain": [
              "0.9965380887242618"
            ]
          },
          "metadata": {},
          "execution_count": 49
        }
      ]
    },
    {
      "cell_type": "code",
      "source": [
        "tuned_train_score=r2_score(y_train,tuned_predic_train)\n",
        "tuned_train_score"
      ],
      "metadata": {
        "colab": {
          "base_uri": "https://localhost:8080/"
        },
        "id": "Va8g9WUD_zP4",
        "outputId": "edc28a72-688d-47d3-d745-a30ce4171f66"
      },
      "execution_count": null,
      "outputs": [
        {
          "output_type": "execute_result",
          "data": {
            "text/plain": [
              "0.9946350283624178"
            ]
          },
          "metadata": {},
          "execution_count": 50
        }
      ]
    },
    {
      "cell_type": "code",
      "source": [
        "print(\"tuned_train_score  : \" ,tuned_train_score)\n",
        "print(\"tuned_test_score   : \" ,tuned_test_score)\n",
        "\n",
        "print(\"tuned_mae_train  : \" ,tuned_mae_train)\n",
        "print(\"tuned_mae_test   : \" ,tuned_mae_test)\n",
        "\n",
        "print(\"tuned_mse_train : \" ,tuned_mse_train)\n",
        "print(\"tuned_mse_test : \" ,tuned_mse_test)\n",
        "\n",
        "print(\"tuned_rmse_train  : \" ,tuned_rmse_train)\n",
        "print(\"tuned_rmse_test  : \" ,tuned_rmse_test)"
      ],
      "metadata": {
        "colab": {
          "base_uri": "https://localhost:8080/"
        },
        "id": "qhMPvz6EAD-s",
        "outputId": "844a9bbd-7d09-4cae-e236-1d8f9d058aaf"
      },
      "execution_count": null,
      "outputs": [
        {
          "output_type": "stream",
          "name": "stdout",
          "text": [
            "tuned_train_score  :  0.9946350283624178\n",
            "tuned_test_score   :  0.9965380887242618\n",
            "tuned_mae_train  :  4.552655128971373\n",
            "tuned_mae_test   :  3.4072505564263644\n",
            "tuned_mse_train :  56.364634178028176\n",
            "tuned_mse_test :  23.268235150472655\n",
            "tuned_rmse_train  :  7.507638388869577\n",
            "tuned_rmse_test  :  4.8237159068992295\n"
          ]
        }
      ]
    },
    {
      "cell_type": "markdown",
      "source": [
        "**Plotting the Tuned Predicted test values against the real values using Seaborn**"
      ],
      "metadata": {
        "id": "ketM-3aaB7A0"
      }
    },
    {
      "cell_type": "code",
      "source": [
        "sns.set_style('white')\n",
        "sns.lmplot(x='test_values',y='tuned_predic_test',data= pd.DataFrame({'test_values':y_test,'tuned_predic_test':Y_prediction_test}))\n",
        "plt.title('Tuned Predicted test values against the real values')"
      ],
      "metadata": {
        "id": "56dV28o0B9LC",
        "colab": {
          "base_uri": "https://localhost:8080/",
          "height": 546
        },
        "outputId": "1a7c5413-31b2-4ce5-f60b-20ce141ec027"
      },
      "execution_count": null,
      "outputs": [
        {
          "output_type": "execute_result",
          "data": {
            "text/plain": [
              "Text(0.5, 1.0, 'Tuned Predicted test values against the real values')"
            ]
          },
          "metadata": {},
          "execution_count": 52
        },
        {
          "output_type": "display_data",
          "data": {
            "text/plain": [
              "<Figure size 500x500 with 1 Axes>"
            ],
            "image/png": "[encoded data removed]"
          },
          "metadata": {}
        }
      ]
    },
    {
      "cell_type": "markdown",
      "source": [
        "##### Which hyperparameter optimization technique have you used and why?"
      ],
      "metadata": {
        "id": "PiV4Ypx8fxKe"
      }
    },
    {
      "cell_type": "markdown",
      "source": [
        "**We have used GridSearchCV optimization technique** ,\n",
        "**we used it because it exhaustively searches over the specified parameter values for an estimator and finds the best combination of hyperparameters that gives the highest cross-validation score. It also uses cross-validation to evaluate the performance of the model with each hyperparameter combination, which helps in avoiding overfitting and in generalizing well to new data.**"
      ],
      "metadata": {
        "id": "negyGRa7fxKf"
      }
    },
    {
      "cell_type": "markdown",
      "source": [
        "##### Have you seen any improvement? Note down the improvement with updates Evaluation metric Score Chart."
      ],
      "metadata": {
        "id": "TfvqoZmBfxKf"
      }
    },
    {
      "cell_type": "markdown",
      "source": [
        "**There is no changes in the Evaluation metrics after cross validation and hyperparameter tuning .**"
      ],
      "metadata": {
        "id": "OaLui8CcfxKf"
      }
    },
    {
      "cell_type": "markdown",
      "source": [
        "### ML Model - 2\n",
        "Ridge Regression"
      ],
      "metadata": {
        "id": "dJ2tPlVmpsJ0"
      }
    },
    {
      "cell_type": "code",
      "source": [
        "# Implementing Ridge regression\n",
        "ridge=Ridge()\n",
        "\n",
        "# Fit the Algorithm\n",
        "ridge.fit(X_train,y_train)\n",
        "\n",
        "# Predict the Algorithm\n",
        "\n",
        "ridge_predict_train=ridge.predict(X_train)\n",
        "ridge_predict_train\n",
        "\n",
        "ridge_predict_test=ridge.predict(X_test)\n",
        "ridge_predict_test"
      ],
      "metadata": {
        "id": "yEl-hgQWpsJ1",
        "colab": {
          "base_uri": "https://localhost:8080/"
        },
        "outputId": "286ba708-6b54-4a98-e1aa-509e659e87a7"
      },
      "execution_count": null,
      "outputs": [
        {
          "output_type": "execute_result",
          "data": {
            "text/plain": [
              "array([ 66.20997762, 165.92259384, 144.42776793,  79.30274749,\n",
              "        15.22760508,  74.56601744,  19.99866973, 101.40126799,\n",
              "        15.63144923,  49.77470796, 169.58563401,  32.02177008,\n",
              "        22.1725485 , 253.63900837,  74.92937642,  31.30207924,\n",
              "       102.693762  ,  59.66502601,  28.17902043, 156.89235885,\n",
              "        53.06811058,  16.37326282, 342.70666841,  16.00770841,\n",
              "       175.38609322,  59.36932685,  27.52856147,  67.3054206 ,\n",
              "       141.40166192,  67.91697508,  68.47800205,  59.2621388 ,\n",
              "        95.34440059, 215.36138052, 355.1245065 ,  28.32041767,\n",
              "        38.40077361,  18.6556788 ,  40.44525363,  56.56949352,\n",
              "        15.75762661,  49.89719676,  58.17006938,  40.18555539,\n",
              "        58.17043316,  66.83382735, 196.52425563])"
            ]
          },
          "metadata": {},
          "execution_count": 53
        }
      ]
    },
    {
      "cell_type": "code",
      "source": [
        "\n",
        "ridge_train_r2_score=r2_score(ridge_predict_train,y_train)\n",
        "ridge_test_r2_score=r2_score(ridge_predict_test,y_test)\n",
        "\n",
        "ridge_mae_train=mean_absolute_error(ridge_predict_train,y_train)\n",
        "ridge_mae_test=mean_absolute_error(ridge_predict_test,y_test)\n",
        "\n",
        "ridge_mse_train=mean_squared_error(ridge_predict_train,y_train)\n",
        "ridge_mse_test=mean_squared_error(ridge_predict_test,y_test)\n",
        "\n",
        "ridge_rmse_train= np.sqrt(ridge_mse_train)\n",
        "ridge_rmse_test=np.sqrt(ridge_mse_test)\n"
      ],
      "metadata": {
        "id": "7FvDkDiTFaqG"
      },
      "execution_count": null,
      "outputs": []
    },
    {
      "cell_type": "markdown",
      "source": [
        "#### 1. Explain the ML Model used and it's performance using Evaluation metric Score Chart."
      ],
      "metadata": {
        "id": "JWYfwnehpsJ1"
      }
    },
    {
      "cell_type": "markdown",
      "source": [
        "**Visualizing evaluation Metric Score chart**"
      ],
      "metadata": {
        "id": "6LBQOvLUfezY"
      }
    },
    {
      "cell_type": "code",
      "source": [
        "print(\"ridge_train_r2_score : \" ,ridge_train_r2_score)\n",
        "print(\"ridge_test_r2_score: \" ,ridge_test_r2_score)\n",
        "\n",
        "print(\"ridge_mae_train: \" ,ridge_mae_train)\n",
        "print(\"ridge_mae_test: \" ,ridge_mae_test)\n",
        "\n",
        "print(\"ridge_mse_train: \" ,ridge_mse_train)\n",
        "print(\"ridge_mse_test: \" ,ridge_mse_test)\n",
        "\n",
        "print(\"ridge_rmse_train: \" ,ridge_rmse_train)\n",
        "print(\"ridge_rmse_test: \" ,ridge_rmse_test)"
      ],
      "metadata": {
        "id": "gPBkgPAfL4PX",
        "colab": {
          "base_uri": "https://localhost:8080/"
        },
        "outputId": "98521384-f3c9-4a2c-9655-442d350c151f"
      },
      "execution_count": null,
      "outputs": [
        {
          "output_type": "stream",
          "name": "stdout",
          "text": [
            "ridge_train_r2_score :  0.9927973178449095\n",
            "ridge_test_r2_score:  0.9943051163721711\n",
            "ridge_mae_train:  5.295218685642063\n",
            "ridge_mae_test:  4.230297776291411\n",
            "ridge_mse_train:  74.30011947991672\n",
            "ridge_mse_test:  36.24327996645321\n",
            "ridge_rmse_train:  8.619751706395999\n",
            "ridge_rmse_test:  6.02023919511951\n"
          ]
        }
      ]
    },
    {
      "cell_type": "markdown",
      "source": [
        "**Plotting the  Predicted test values against the real values using Seaborn**"
      ],
      "metadata": {
        "id": "p4RnOJ-cfllU"
      }
    },
    {
      "cell_type": "code",
      "source": [
        "sns.set_style('white')\n",
        "sns.lmplot(x='test_values',y='ridge_test_r2_score',data= pd.DataFrame({'test_values':y_test,'ridge_test_r2_score':ridge_predict_test}))\n",
        "plt.title('Predicted test values against the real values')"
      ],
      "metadata": {
        "id": "iz5e_l-rfqso",
        "colab": {
          "base_uri": "https://localhost:8080/",
          "height": 546
        },
        "outputId": "5c65a031-2c2a-4858-e33a-d9b1470f1565"
      },
      "execution_count": null,
      "outputs": [
        {
          "output_type": "execute_result",
          "data": {
            "text/plain": [
              "Text(0.5, 1.0, 'Predicted test values against the real values')"
            ]
          },
          "metadata": {},
          "execution_count": 56
        },
        {
          "output_type": "display_data",
          "data": {
            "text/plain": [
              "<Figure size 500x500 with 1 Axes>"
            ],
            "image/png": "[encoded data removed]"
          },
          "metadata": {}
        }
      ]
    },
    {
      "cell_type": "markdown",
      "source": [
        "**#### 2. Cross- Validation & Hyperparameter Tuning of Model 2**"
      ],
      "metadata": {
        "id": "-jK_YjpMpsJ2"
      }
    },
    {
      "cell_type": "code",
      "source": [
        "# ML Model - 1 Implementation with hyperparameter optimization techniques (i.e., GridSearch CV, RandomSearch CV, Bayesian Optimization etc.)\n",
        "gcv= GridSearchCV(Ridge(),param_grid={'alpha':[20,10,30,15,25,35,40,50,100]},scoring='r2', cv=5)\n",
        "gcv.fit(X_train,y_train)\n",
        "print(gcv.best_params_)\n",
        "print(gcv.best_score_)"
      ],
      "metadata": {
        "id": "Dn0EOfS6psJ2",
        "colab": {
          "base_uri": "https://localhost:8080/"
        },
        "outputId": "8862636b-6716-42ba-c68a-9812ad987782"
      },
      "execution_count": null,
      "outputs": [
        {
          "output_type": "stream",
          "name": "stdout",
          "text": [
            "{'alpha': 10}\n",
            "0.979462439672905\n"
          ]
        }
      ]
    },
    {
      "cell_type": "code",
      "source": [
        "# Fit the Algorithm\n",
        "\n",
        "tuned_ridge= Ridge(alpha=10)\n",
        "\n",
        "tuned_ridge.fit(X_train,y_train)"
      ],
      "metadata": {
        "id": "UVQMN_6295UA",
        "colab": {
          "base_uri": "https://localhost:8080/",
          "height": 74
        },
        "outputId": "73beccb7-b238-4574-a2a8-8223917b78fc"
      },
      "execution_count": null,
      "outputs": [
        {
          "output_type": "execute_result",
          "data": {
            "text/plain": [
              "Ridge(alpha=10)"
            ],
            "text/html": [
              "<style>#sk-container-id-2 {color: black;background-color: white;}#sk-container-id-2 pre{padding: 0;}#sk-container-id-2 div.sk-toggleable {background-color: white;}#sk-container-id-2 label.sk-toggleable__label {cursor: pointer;display: block;width: 100%;margin-bottom: 0;padding: 0.3em;box-sizing: border-box;text-align: center;}#sk-container-id-2 label.sk-toggleable__label-arrow:before {content: \"▸\";float: left;margin-right: 0.25em;color: #696969;}#sk-container-id-2 label.sk-toggleable__label-arrow:hover:before {color: black;}#sk-container-id-2 div.sk-estimator:hover label.sk-toggleable__label-arrow:before {color: black;}#sk-container-id-2 div.sk-toggleable__content {max-height: 0;max-width: 0;overflow: hidden;text-align: left;background-color: #f0f8ff;}#sk-container-id-2 div.sk-toggleable__content pre {margin: 0.2em;color: black;border-radius: 0.25em;background-color: #f0f8ff;}#sk-container-id-2 input.sk-toggleable__control:checked~div.sk-toggleable__content {max-height: 200px;max-width: 100%;overflow: auto;}#sk-container-id-2 input.sk-toggleable__control:checked~label.sk-toggleable__label-arrow:before {content: \"▾\";}#sk-container-id-2 div.sk-estimator input.sk-toggleable__control:checked~label.sk-toggleable__label {background-color: #d4ebff;}#sk-container-id-2 div.sk-label input.sk-toggleable__control:checked~label.sk-toggleable__label {background-color: #d4ebff;}#sk-container-id-2 input.sk-hidden--visually {border: 0;clip: rect(1px 1px 1px 1px);clip: rect(1px, 1px, 1px, 1px);height: 1px;margin: -1px;overflow: hidden;padding: 0;position: absolute;width: 1px;}#sk-container-id-2 div.sk-estimator {font-family: monospace;background-color: #f0f8ff;border: 1px dotted black;border-radius: 0.25em;box-sizing: border-box;margin-bottom: 0.5em;}#sk-container-id-2 div.sk-estimator:hover {background-color: #d4ebff;}#sk-container-id-2 div.sk-parallel-item::after {content: \"\";width: 100%;border-bottom: 1px solid gray;flex-grow: 1;}#sk-container-id-2 div.sk-label:hover label.sk-toggleable__label {background-color: #d4ebff;}#sk-container-id-2 div.sk-serial::before {content: \"\";position: absolute;border-left: 1px solid gray;box-sizing: border-box;top: 0;bottom: 0;left: 50%;z-index: 0;}#sk-container-id-2 div.sk-serial {display: flex;flex-direction: column;align-items: center;background-color: white;padding-right: 0.2em;padding-left: 0.2em;position: relative;}#sk-container-id-2 div.sk-item {position: relative;z-index: 1;}#sk-container-id-2 div.sk-parallel {display: flex;align-items: stretch;justify-content: center;background-color: white;position: relative;}#sk-container-id-2 div.sk-item::before, #sk-container-id-2 div.sk-parallel-item::before {content: \"\";position: absolute;border-left: 1px solid gray;box-sizing: border-box;top: 0;bottom: 0;left: 50%;z-index: -1;}#sk-container-id-2 div.sk-parallel-item {display: flex;flex-direction: column;z-index: 1;position: relative;background-color: white;}#sk-container-id-2 div.sk-parallel-item:first-child::after {align-self: flex-end;width: 50%;}#sk-container-id-2 div.sk-parallel-item:last-child::after {align-self: flex-start;width: 50%;}#sk-container-id-2 div.sk-parallel-item:only-child::after {width: 0;}#sk-container-id-2 div.sk-dashed-wrapped {border: 1px dashed gray;margin: 0 0.4em 0.5em 0.4em;box-sizing: border-box;padding-bottom: 0.4em;background-color: white;}#sk-container-id-2 div.sk-label label {font-family: monospace;font-weight: bold;display: inline-block;line-height: 1.2em;}#sk-container-id-2 div.sk-label-container {text-align: center;}#sk-container-id-2 div.sk-container {/* jupyter's `normalize.less` sets `[hidden] { display: none; }` but bootstrap.min.css set `[hidden] { display: none !important; }` so we also need the `!important` here to be able to override the default hidden behavior on the sphinx rendered scikit-learn.org. See: https://github.com/scikit-learn/scikit-learn/issues/21755 */display: inline-block !important;position: relative;}#sk-container-id-2 div.sk-text-repr-fallback {display: none;}</style><div id=\"sk-container-id-2\" class=\"sk-top-container\"><div class=\"sk-text-repr-fallback\"><pre>Ridge(alpha=10)</pre><b>In a Jupyter environment, please rerun this cell to show the HTML representation or trust the notebook. <br />On GitHub, the HTML representation is unable to render, please try loading this page with nbviewer.org.</b></div><div class=\"sk-container\" hidden><div class=\"sk-item\"><div class=\"sk-estimator sk-toggleable\"><input class=\"sk-toggleable__control sk-hidden--visually\" id=\"sk-estimator-id-2\" type=\"checkbox\" checked><label for=\"sk-estimator-id-2\" class=\"sk-toggleable__label sk-toggleable__label-arrow\">Ridge</label><div class=\"sk-toggleable__content\"><pre>Ridge(alpha=10)</pre></div></div></div></div></div>"
            ]
          },
          "metadata": {},
          "execution_count": 58
        }
      ]
    },
    {
      "cell_type": "code",
      "source": [
        "# Predict on the model\n",
        "tuned_ridge_y_train_pred =tuned_ridge.predict(X_train)\n",
        "print(tuned_ridge_y_train_pred)\n",
        "\n",
        "tuned_ridge_y_test_pred =tuned_ridge.predict(X_test)\n",
        "print(tuned_ridge_y_test_pred)\n",
        "\n",
        "#coefficient\n",
        "ridge.coef_\n",
        "\n",
        "#Intercept\n",
        "ridge.intercept_\n"
      ],
      "metadata": {
        "id": "_IWV3aiu97KO",
        "colab": {
          "base_uri": "https://localhost:8080/"
        },
        "outputId": "a555ac87-7d2f-4151-99ec-20f2377d60f8"
      },
      "execution_count": null,
      "outputs": [
        {
          "output_type": "stream",
          "name": "stdout",
          "text": [
            "[ 31.54918732  51.90251071 305.56288214  59.26040248  80.81496532\n",
            "  34.84982974 110.58473896  58.51994392 119.84703182  72.86556748\n",
            "  55.40481469  14.95889382  57.12417634  27.23216083 165.50536713\n",
            " 307.98600262  48.59582566 312.71881951  87.86577448 116.26794587\n",
            "  28.63424878  17.20075747 330.37059979 299.91619105  56.90349677\n",
            " 168.66709799 330.64928095 143.9961995   16.75578348  39.72919793\n",
            " 302.5078315   31.74801758  37.64385982  54.21121823  65.20185692\n",
            "  29.67426598  63.21155411  45.42946676  21.36143644  67.44931076\n",
            "  72.05114843  74.58831421  51.02320219  16.9597605   36.27093511\n",
            " 252.33682931  58.33676581  29.51051337  45.38246561 323.51188566\n",
            "  69.45821183  15.95313075 194.0322362   58.01598528 256.03924784\n",
            "  18.01652301  70.07740194 354.82457318 197.68474421 174.7122787\n",
            "  31.1057752   19.00281416  19.57981632  34.90649798  98.39304116\n",
            "  72.34399781  18.4007496  162.50883322  31.36788588 342.0985164\n",
            " 238.62857824  69.77766548  36.31157858 199.93612664 108.17832079\n",
            "  38.43271758 150.86697857 228.64892941 250.55962577  17.06220191\n",
            "  17.30798618  13.29524866  79.75552217 173.65692917  47.29466286\n",
            " 222.93743654  61.37795896 166.76735292 287.67762569  17.60219897\n",
            " 229.22919798  57.76448217 126.45885713 103.64077271 255.69220499\n",
            "  91.5497209   32.63885171  42.54366485  27.40769464  55.3208679\n",
            "  51.62792207  63.38043674 291.63432091  92.61804996  44.86887789\n",
            "  71.37936059  92.76746262 309.09015772 138.50473498 320.44720173\n",
            "  20.30976065  56.00339278 153.43147301  98.05487794  35.17175709\n",
            "  68.04411904 138.44619992 110.93521383  86.86956278  54.20035827\n",
            " 280.69916775  72.94122314  27.32178034 165.56436706 244.52862891\n",
            "  17.65062963  16.21605745  59.91820224  21.19163505  22.73242516\n",
            " 360.80228422 348.95834094 148.1867688  143.09416138  69.3685499\n",
            "  23.86242616 145.03531526  23.02824249]\n",
            "[ 64.81036864 160.53319519 144.96357581  78.10035112  16.70659564\n",
            "  73.71954676  22.05391724 101.99137135  17.06488341  50.64337256\n",
            " 169.42387618  38.7364499   22.73652494 243.60349359  74.74733084\n",
            "  32.66939825  99.38748914  60.92217857  30.46732448 150.25436479\n",
            "  54.25325156  21.55469252 335.86895806  17.02364361 181.21969876\n",
            "  58.41170711  30.69564857  66.46044484 138.18302388  70.92214461\n",
            "  68.07814691  58.162708    96.42093145 208.64466293 349.08034087\n",
            "  29.42033912  40.13518785  19.62033288  40.9288933   57.10880902\n",
            "  16.82600879  50.26413702  60.46179457  40.30120376  58.55076121\n",
            "  65.9036513  191.47075327]\n"
          ]
        },
        {
          "output_type": "execute_result",
          "data": {
            "text/plain": [
              "111.64043478260866"
            ]
          },
          "metadata": {},
          "execution_count": 59
        }
      ]
    },
    {
      "cell_type": "markdown",
      "source": [
        "**Visualizing evaluation Metric Score chart**"
      ],
      "metadata": {
        "id": "HGP19t5ZPY01"
      }
    },
    {
      "cell_type": "code",
      "source": [
        "tuned_ridge_mae_test=mean_absolute_error(y_test ,tuned_ridge_y_test_pred)\n",
        "tuned_ridge_mae_test"
      ],
      "metadata": {
        "colab": {
          "base_uri": "https://localhost:8080/"
        },
        "id": "1nu1OwXFKzmx",
        "outputId": "3ff8892d-3f8a-49b5-ad5c-792da1fe31bc"
      },
      "execution_count": null,
      "outputs": [
        {
          "output_type": "execute_result",
          "data": {
            "text/plain": [
              "5.850610291722767"
            ]
          },
          "metadata": {},
          "execution_count": 60
        }
      ]
    },
    {
      "cell_type": "code",
      "source": [
        "tuned_ridge_mae_train=mean_absolute_error(y_train ,tuned_ridge_y_train_pred)\n",
        "tuned_ridge_mae_train"
      ],
      "metadata": {
        "colab": {
          "base_uri": "https://localhost:8080/"
        },
        "id": "-XlE1lsz99QR",
        "outputId": "4bb7c40a-dbcf-44ed-c0eb-55581806a466"
      },
      "execution_count": null,
      "outputs": [
        {
          "output_type": "execute_result",
          "data": {
            "text/plain": [
              "7.564895928151995"
            ]
          },
          "metadata": {},
          "execution_count": 61
        }
      ]
    },
    {
      "cell_type": "code",
      "source": [
        "tuned_ridge_mse_test =mean_squared_error(y_test ,tuned_ridge_y_test_pred)\n",
        "tuned_ridge_mse_test"
      ],
      "metadata": {
        "colab": {
          "base_uri": "https://localhost:8080/"
        },
        "id": "jZF0CqxlQ7OZ",
        "outputId": "72caac70-41a4-4419-e90f-21227e6fab59"
      },
      "execution_count": null,
      "outputs": [
        {
          "output_type": "execute_result",
          "data": {
            "text/plain": [
              "73.5852732123718"
            ]
          },
          "metadata": {},
          "execution_count": 62
        }
      ]
    },
    {
      "cell_type": "code",
      "source": [
        "tuned_ridge_mse_train =mean_squared_error(y_train ,tuned_ridge_y_train_pred)\n",
        "tuned_ridge_mse_train"
      ],
      "metadata": {
        "colab": {
          "base_uri": "https://localhost:8080/"
        },
        "id": "OKBub_Gm9_i3",
        "outputId": "36c3c547-3435-4641-c19c-0d0ea4cc286c"
      },
      "execution_count": null,
      "outputs": [
        {
          "output_type": "execute_result",
          "data": {
            "text/plain": [
              "168.50272422455694"
            ]
          },
          "metadata": {},
          "execution_count": 63
        }
      ]
    },
    {
      "cell_type": "code",
      "source": [
        "tuned_ridge_rmse_test=np.sqrt(tuned_ridge_mse_test)\n",
        "tuned_ridge_rmse_test"
      ],
      "metadata": {
        "colab": {
          "base_uri": "https://localhost:8080/"
        },
        "id": "PkgssZNnRAZk",
        "outputId": "f08a7869-d828-476f-eb61-b82bd27ffd5e"
      },
      "execution_count": null,
      "outputs": [
        {
          "output_type": "execute_result",
          "data": {
            "text/plain": [
              "8.578185892854725"
            ]
          },
          "metadata": {},
          "execution_count": 64
        }
      ]
    },
    {
      "cell_type": "code",
      "source": [
        "tuned_ridge_rmse_train=np.sqrt(tuned_ridge_mse_train)\n",
        "tuned_ridge_rmse_train"
      ],
      "metadata": {
        "colab": {
          "base_uri": "https://localhost:8080/"
        },
        "id": "Q8k2nSeNROBL",
        "outputId": "f0ffdf33-2677-4958-f8cf-38ee2cbe0572"
      },
      "execution_count": null,
      "outputs": [
        {
          "output_type": "execute_result",
          "data": {
            "text/plain": [
              "12.980859918532245"
            ]
          },
          "metadata": {},
          "execution_count": 65
        }
      ]
    },
    {
      "cell_type": "markdown",
      "source": [
        "**Checking model accuracy**"
      ],
      "metadata": {
        "id": "feUylqtZRfn_"
      }
    },
    {
      "cell_type": "code",
      "source": [
        "tuned_ridge_train__r2_score=r2_score(ridge_predict_train,y_train)\n",
        "tuned_ridge_train__r2_score"
      ],
      "metadata": {
        "colab": {
          "base_uri": "https://localhost:8080/"
        },
        "id": "d4AZbSmHRfXh",
        "outputId": "75a19108-6004-444b-cebd-9d96ffc21c9f"
      },
      "execution_count": null,
      "outputs": [
        {
          "output_type": "execute_result",
          "data": {
            "text/plain": [
              "0.9927973178449095"
            ]
          },
          "metadata": {},
          "execution_count": 66
        }
      ]
    },
    {
      "cell_type": "code",
      "source": [
        "tuned_ridge_test__r2_score=r2_score(ridge_predict_test,y_test)\n",
        "tuned_ridge_test__r2_score"
      ],
      "metadata": {
        "colab": {
          "base_uri": "https://localhost:8080/"
        },
        "id": "A2kXG3mIR768",
        "outputId": "96adda4c-f025-4fef-b98b-6211d07d15a2"
      },
      "execution_count": null,
      "outputs": [
        {
          "output_type": "execute_result",
          "data": {
            "text/plain": [
              "0.9943051163721711"
            ]
          },
          "metadata": {},
          "execution_count": 67
        }
      ]
    },
    {
      "cell_type": "markdown",
      "source": [
        "**Visualizing evaluation Metric Score chart**"
      ],
      "metadata": {
        "id": "CgGFs2fZSNpe"
      }
    },
    {
      "cell_type": "code",
      "source": [
        "print(\"tuned_ridge_train__r2_score : \" ,tuned_ridge_train__r2_score)\n",
        "print(\"tuned_ridge_test__r2_score: \" ,tuned_ridge_test__r2_score)\n",
        "\n",
        "print(\"tuned_ridge_mae_train: \" ,tuned_ridge_mae_train)\n",
        "print(\"tuned_ridge_mae_test: \" ,tuned_ridge_mae_test)\n",
        "\n",
        "print(\"tuned_ridge_mse_train: \" ,tuned_ridge_mse_train)\n",
        "print(\"tuned_ridge_mse_test: \" ,tuned_ridge_mse_test)\n",
        "\n",
        "print(\"tuned_ridge_rmse_train: \" ,tuned_ridge_rmse_train)\n",
        "print(\"tuned_ridge_rmse_test: \" ,ridge_rmse_test)"
      ],
      "metadata": {
        "id": "2GV-yyFUSQ9w",
        "colab": {
          "base_uri": "https://localhost:8080/"
        },
        "outputId": "b7a4dcd0-7b83-44ce-e6d5-4d9ced92053b"
      },
      "execution_count": null,
      "outputs": [
        {
          "output_type": "stream",
          "name": "stdout",
          "text": [
            "tuned_ridge_train__r2_score :  0.9927973178449095\n",
            "tuned_ridge_test__r2_score:  0.9943051163721711\n",
            "tuned_ridge_mae_train:  7.564895928151995\n",
            "tuned_ridge_mae_test:  5.850610291722767\n",
            "tuned_ridge_mse_train:  168.50272422455694\n",
            "tuned_ridge_mse_test:  73.5852732123718\n",
            "tuned_ridge_rmse_train:  12.980859918532245\n",
            "tuned_ridge_rmse_test:  6.02023919511951\n"
          ]
        }
      ]
    },
    {
      "cell_type": "markdown",
      "source": [
        "**Plotting the  Predicted test values against the real values using Seaborn**"
      ],
      "metadata": {
        "id": "pFbWubDthmTZ"
      }
    },
    {
      "cell_type": "code",
      "source": [
        "sns.set_style('white')\n",
        "sns.lmplot(x='test_values',y='tuned_ridge_test__r2_score',data= pd.DataFrame({'test_values':y_test,'tuned_ridge_test__r2_score':tuned_ridge_y_test_pred}))\n",
        "plt.title('Predicted test values against the real values')"
      ],
      "metadata": {
        "id": "-ohcX1Rdhtyl",
        "colab": {
          "base_uri": "https://localhost:8080/",
          "height": 546
        },
        "outputId": "43aad656-e3fd-4dea-f0a4-7894a8df3dab"
      },
      "execution_count": null,
      "outputs": [
        {
          "output_type": "execute_result",
          "data": {
            "text/plain": [
              "Text(0.5, 1.0, 'Predicted test values against the real values')"
            ]
          },
          "metadata": {},
          "execution_count": 69
        },
        {
          "output_type": "display_data",
          "data": {
            "text/plain": [
              "<Figure size 500x500 with 1 Axes>"
            ],
            "image/png": "[encoded data removed]"
          },
          "metadata": {}
        }
      ]
    },
    {
      "cell_type": "markdown",
      "source": [
        "##### Which hyperparameter optimization technique have you used and why?"
      ],
      "metadata": {
        "id": "HAih1iBOpsJ2"
      }
    },
    {
      "cell_type": "markdown",
      "source": [
        "**We have used GridSearchCV optimization technique** ,\n",
        "**we used it because it exhaustively searches over the specified parameter values for an alpha that gives the highest cross-validation score. It also uses cross-validation to evaluate the performance of the model with each hyperparameter , which helps in avoiding overfitting and in generalizing well to new data.**"
      ],
      "metadata": {
        "id": "9kBgjYcdpsJ2"
      }
    },
    {
      "cell_type": "markdown",
      "source": [
        "##### Have you seen any improvement? Note down the improvement with updates Evaluation metric Score Chart."
      ],
      "metadata": {
        "id": "zVGeBEFhpsJ2"
      }
    },
    {
      "cell_type": "markdown",
      "source": [
        "**There is no changes in the Evaluation metrics after cross validation and hyperparameter tuning .**"
      ],
      "metadata": {
        "id": "74yRdG6UpsJ3"
      }
    },
    {
      "cell_type": "markdown",
      "source": [
        "# **Conclusion**"
      ],
      "metadata": {
        "id": "gCX9965dhzqZ"
      }
    },
    {
      "cell_type": "markdown",
      "source": [
        "The MSE and R2 score are commonly used evaluation metrics for regression models. In this case, the Linear Regression and Ridge Regression models have very similar performance, with the Ridge Regression model having a slightly lower MSE and a slightly higher R2 score.\n",
        "\n",
        "The mean squared error (MSE) measures the average squared difference between the predicted and actual values, where a lower MSE indicates better performance. The R-squared (R2) score measures the proportion of the variance in the dependent variable that is predictable from the independent variables, where a higher R2 score indicates better performance."
      ],
      "metadata": {
        "id": "Fjb1IsQkh3yE"
      }
    },
    {
      "cell_type": "markdown",
      "source": [
        "### ***Hurrah! You have successfully completed your Machine Learning Capstone Project !!!***"
      ],
      "metadata": {
        "id": "gIfDvo9L0UH2"
      }
    }
  ]
}